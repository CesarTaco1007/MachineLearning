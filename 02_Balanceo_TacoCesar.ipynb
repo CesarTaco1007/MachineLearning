{
  "nbformat": 4,
  "nbformat_minor": 0,
  "metadata": {
    "colab": {
      "name": "Balanceo_TacoCesar.ipynb",
      "provenance": []
    },
    "kernelspec": {
      "name": "python3",
      "display_name": "Python 3"
    },
    "language_info": {
      "name": "python"
    }
  },
  "cells": [
    {
      "cell_type": "markdown",
      "metadata": {
        "id": "NoX1Ic8TpNpm"
      },
      "source": [
        "**MACHINE LEARNING - BALANCEO**\n",
        "\n",
        "CESAR PAOLO TACO APOLO"
      ]
    },
    {
      "cell_type": "code",
      "metadata": {
        "colab": {
          "base_uri": "https://localhost:8080/"
        },
        "id": "sJDs3D-b4QkD",
        "outputId": "a5be321c-6363-4af2-e5e6-5544f552525f"
      },
      "source": [
        "import numpy as np\n",
        "import pandas as pd\n",
        "import matplotlib.pyplot as plt\n",
        "import seaborn as sns\n",
        "from sklearn.preprocessing import StandardScaler, LabelEncoder\n",
        "from imblearn.over_sampling import RandomOverSampler, SMOTE\n",
        "from imblearn.under_sampling import RandomUnderSampler\n",
        "from sklearn.model_selection import train_test_split\n",
        "from tensorflow.keras.models import Sequential\n",
        "from tensorflow.keras.layers import Dense\n",
        "\n",
        "from sklearn.decomposition import PCA"
      ],
      "execution_count": 1,
      "outputs": [
        {
          "output_type": "stream",
          "text": [
            "/usr/local/lib/python3.7/dist-packages/sklearn/externals/six.py:31: FutureWarning: The module is deprecated in version 0.21 and will be removed in version 0.23 since we've dropped support for Python 2.7. Please rely on the official version of six (https://pypi.org/project/six/).\n",
            "  \"(https://pypi.org/project/six/).\", FutureWarning)\n",
            "/usr/local/lib/python3.7/dist-packages/sklearn/utils/deprecation.py:144: FutureWarning: The sklearn.neighbors.base module is  deprecated in version 0.22 and will be removed in version 0.24. The corresponding classes / functions should instead be imported from sklearn.neighbors. Anything that cannot be imported from sklearn.neighbors is now part of the private API.\n",
            "  warnings.warn(message, FutureWarning)\n"
          ],
          "name": "stderr"
        }
      ]
    },
    {
      "cell_type": "code",
      "metadata": {
        "id": "ucRuUCjk5KBo"
      },
      "source": [
        "data = pd.read_csv('bank-additional-full.csv',sep=\";\")"
      ],
      "execution_count": 2,
      "outputs": []
    },
    {
      "cell_type": "code",
      "metadata": {
        "colab": {
          "base_uri": "https://localhost:8080/",
          "height": 422
        },
        "id": "FFRgE5vZ5o-3",
        "outputId": "7ec8bfa7-b239-4711-fcff-eeae636e3ed1"
      },
      "source": [
        "data"
      ],
      "execution_count": 3,
      "outputs": [
        {
          "output_type": "execute_result",
          "data": {
            "text/html": [
              "<div>\n",
              "<style scoped>\n",
              "    .dataframe tbody tr th:only-of-type {\n",
              "        vertical-align: middle;\n",
              "    }\n",
              "\n",
              "    .dataframe tbody tr th {\n",
              "        vertical-align: top;\n",
              "    }\n",
              "\n",
              "    .dataframe thead th {\n",
              "        text-align: right;\n",
              "    }\n",
              "</style>\n",
              "<table border=\"1\" class=\"dataframe\">\n",
              "  <thead>\n",
              "    <tr style=\"text-align: right;\">\n",
              "      <th></th>\n",
              "      <th>age</th>\n",
              "      <th>job</th>\n",
              "      <th>marital</th>\n",
              "      <th>education</th>\n",
              "      <th>default</th>\n",
              "      <th>housing</th>\n",
              "      <th>loan</th>\n",
              "      <th>contact</th>\n",
              "      <th>month</th>\n",
              "      <th>day_of_week</th>\n",
              "      <th>duration</th>\n",
              "      <th>campaign</th>\n",
              "      <th>pdays</th>\n",
              "      <th>previous</th>\n",
              "      <th>poutcome</th>\n",
              "      <th>emp.var.rate</th>\n",
              "      <th>cons.price.idx</th>\n",
              "      <th>cons.conf.idx</th>\n",
              "      <th>euribor3m</th>\n",
              "      <th>nr.employed</th>\n",
              "      <th>y</th>\n",
              "    </tr>\n",
              "  </thead>\n",
              "  <tbody>\n",
              "    <tr>\n",
              "      <th>0</th>\n",
              "      <td>56</td>\n",
              "      <td>housemaid</td>\n",
              "      <td>married</td>\n",
              "      <td>basic.4y</td>\n",
              "      <td>no</td>\n",
              "      <td>no</td>\n",
              "      <td>no</td>\n",
              "      <td>telephone</td>\n",
              "      <td>may</td>\n",
              "      <td>mon</td>\n",
              "      <td>261</td>\n",
              "      <td>1</td>\n",
              "      <td>999</td>\n",
              "      <td>0</td>\n",
              "      <td>nonexistent</td>\n",
              "      <td>1.1</td>\n",
              "      <td>93.994</td>\n",
              "      <td>-36.4</td>\n",
              "      <td>4.857</td>\n",
              "      <td>5191.0</td>\n",
              "      <td>no</td>\n",
              "    </tr>\n",
              "    <tr>\n",
              "      <th>1</th>\n",
              "      <td>57</td>\n",
              "      <td>services</td>\n",
              "      <td>married</td>\n",
              "      <td>high.school</td>\n",
              "      <td>unknown</td>\n",
              "      <td>no</td>\n",
              "      <td>no</td>\n",
              "      <td>telephone</td>\n",
              "      <td>may</td>\n",
              "      <td>mon</td>\n",
              "      <td>149</td>\n",
              "      <td>1</td>\n",
              "      <td>999</td>\n",
              "      <td>0</td>\n",
              "      <td>nonexistent</td>\n",
              "      <td>1.1</td>\n",
              "      <td>93.994</td>\n",
              "      <td>-36.4</td>\n",
              "      <td>4.857</td>\n",
              "      <td>5191.0</td>\n",
              "      <td>no</td>\n",
              "    </tr>\n",
              "    <tr>\n",
              "      <th>2</th>\n",
              "      <td>37</td>\n",
              "      <td>services</td>\n",
              "      <td>married</td>\n",
              "      <td>high.school</td>\n",
              "      <td>no</td>\n",
              "      <td>yes</td>\n",
              "      <td>no</td>\n",
              "      <td>telephone</td>\n",
              "      <td>may</td>\n",
              "      <td>mon</td>\n",
              "      <td>226</td>\n",
              "      <td>1</td>\n",
              "      <td>999</td>\n",
              "      <td>0</td>\n",
              "      <td>nonexistent</td>\n",
              "      <td>1.1</td>\n",
              "      <td>93.994</td>\n",
              "      <td>-36.4</td>\n",
              "      <td>4.857</td>\n",
              "      <td>5191.0</td>\n",
              "      <td>no</td>\n",
              "    </tr>\n",
              "    <tr>\n",
              "      <th>3</th>\n",
              "      <td>40</td>\n",
              "      <td>admin.</td>\n",
              "      <td>married</td>\n",
              "      <td>basic.6y</td>\n",
              "      <td>no</td>\n",
              "      <td>no</td>\n",
              "      <td>no</td>\n",
              "      <td>telephone</td>\n",
              "      <td>may</td>\n",
              "      <td>mon</td>\n",
              "      <td>151</td>\n",
              "      <td>1</td>\n",
              "      <td>999</td>\n",
              "      <td>0</td>\n",
              "      <td>nonexistent</td>\n",
              "      <td>1.1</td>\n",
              "      <td>93.994</td>\n",
              "      <td>-36.4</td>\n",
              "      <td>4.857</td>\n",
              "      <td>5191.0</td>\n",
              "      <td>no</td>\n",
              "    </tr>\n",
              "    <tr>\n",
              "      <th>4</th>\n",
              "      <td>56</td>\n",
              "      <td>services</td>\n",
              "      <td>married</td>\n",
              "      <td>high.school</td>\n",
              "      <td>no</td>\n",
              "      <td>no</td>\n",
              "      <td>yes</td>\n",
              "      <td>telephone</td>\n",
              "      <td>may</td>\n",
              "      <td>mon</td>\n",
              "      <td>307</td>\n",
              "      <td>1</td>\n",
              "      <td>999</td>\n",
              "      <td>0</td>\n",
              "      <td>nonexistent</td>\n",
              "      <td>1.1</td>\n",
              "      <td>93.994</td>\n",
              "      <td>-36.4</td>\n",
              "      <td>4.857</td>\n",
              "      <td>5191.0</td>\n",
              "      <td>no</td>\n",
              "    </tr>\n",
              "    <tr>\n",
              "      <th>...</th>\n",
              "      <td>...</td>\n",
              "      <td>...</td>\n",
              "      <td>...</td>\n",
              "      <td>...</td>\n",
              "      <td>...</td>\n",
              "      <td>...</td>\n",
              "      <td>...</td>\n",
              "      <td>...</td>\n",
              "      <td>...</td>\n",
              "      <td>...</td>\n",
              "      <td>...</td>\n",
              "      <td>...</td>\n",
              "      <td>...</td>\n",
              "      <td>...</td>\n",
              "      <td>...</td>\n",
              "      <td>...</td>\n",
              "      <td>...</td>\n",
              "      <td>...</td>\n",
              "      <td>...</td>\n",
              "      <td>...</td>\n",
              "      <td>...</td>\n",
              "    </tr>\n",
              "    <tr>\n",
              "      <th>41183</th>\n",
              "      <td>73</td>\n",
              "      <td>retired</td>\n",
              "      <td>married</td>\n",
              "      <td>professional.course</td>\n",
              "      <td>no</td>\n",
              "      <td>yes</td>\n",
              "      <td>no</td>\n",
              "      <td>cellular</td>\n",
              "      <td>nov</td>\n",
              "      <td>fri</td>\n",
              "      <td>334</td>\n",
              "      <td>1</td>\n",
              "      <td>999</td>\n",
              "      <td>0</td>\n",
              "      <td>nonexistent</td>\n",
              "      <td>-1.1</td>\n",
              "      <td>94.767</td>\n",
              "      <td>-50.8</td>\n",
              "      <td>1.028</td>\n",
              "      <td>4963.6</td>\n",
              "      <td>yes</td>\n",
              "    </tr>\n",
              "    <tr>\n",
              "      <th>41184</th>\n",
              "      <td>46</td>\n",
              "      <td>blue-collar</td>\n",
              "      <td>married</td>\n",
              "      <td>professional.course</td>\n",
              "      <td>no</td>\n",
              "      <td>no</td>\n",
              "      <td>no</td>\n",
              "      <td>cellular</td>\n",
              "      <td>nov</td>\n",
              "      <td>fri</td>\n",
              "      <td>383</td>\n",
              "      <td>1</td>\n",
              "      <td>999</td>\n",
              "      <td>0</td>\n",
              "      <td>nonexistent</td>\n",
              "      <td>-1.1</td>\n",
              "      <td>94.767</td>\n",
              "      <td>-50.8</td>\n",
              "      <td>1.028</td>\n",
              "      <td>4963.6</td>\n",
              "      <td>no</td>\n",
              "    </tr>\n",
              "    <tr>\n",
              "      <th>41185</th>\n",
              "      <td>56</td>\n",
              "      <td>retired</td>\n",
              "      <td>married</td>\n",
              "      <td>university.degree</td>\n",
              "      <td>no</td>\n",
              "      <td>yes</td>\n",
              "      <td>no</td>\n",
              "      <td>cellular</td>\n",
              "      <td>nov</td>\n",
              "      <td>fri</td>\n",
              "      <td>189</td>\n",
              "      <td>2</td>\n",
              "      <td>999</td>\n",
              "      <td>0</td>\n",
              "      <td>nonexistent</td>\n",
              "      <td>-1.1</td>\n",
              "      <td>94.767</td>\n",
              "      <td>-50.8</td>\n",
              "      <td>1.028</td>\n",
              "      <td>4963.6</td>\n",
              "      <td>no</td>\n",
              "    </tr>\n",
              "    <tr>\n",
              "      <th>41186</th>\n",
              "      <td>44</td>\n",
              "      <td>technician</td>\n",
              "      <td>married</td>\n",
              "      <td>professional.course</td>\n",
              "      <td>no</td>\n",
              "      <td>no</td>\n",
              "      <td>no</td>\n",
              "      <td>cellular</td>\n",
              "      <td>nov</td>\n",
              "      <td>fri</td>\n",
              "      <td>442</td>\n",
              "      <td>1</td>\n",
              "      <td>999</td>\n",
              "      <td>0</td>\n",
              "      <td>nonexistent</td>\n",
              "      <td>-1.1</td>\n",
              "      <td>94.767</td>\n",
              "      <td>-50.8</td>\n",
              "      <td>1.028</td>\n",
              "      <td>4963.6</td>\n",
              "      <td>yes</td>\n",
              "    </tr>\n",
              "    <tr>\n",
              "      <th>41187</th>\n",
              "      <td>74</td>\n",
              "      <td>retired</td>\n",
              "      <td>married</td>\n",
              "      <td>professional.course</td>\n",
              "      <td>no</td>\n",
              "      <td>yes</td>\n",
              "      <td>no</td>\n",
              "      <td>cellular</td>\n",
              "      <td>nov</td>\n",
              "      <td>fri</td>\n",
              "      <td>239</td>\n",
              "      <td>3</td>\n",
              "      <td>999</td>\n",
              "      <td>1</td>\n",
              "      <td>failure</td>\n",
              "      <td>-1.1</td>\n",
              "      <td>94.767</td>\n",
              "      <td>-50.8</td>\n",
              "      <td>1.028</td>\n",
              "      <td>4963.6</td>\n",
              "      <td>no</td>\n",
              "    </tr>\n",
              "  </tbody>\n",
              "</table>\n",
              "<p>41188 rows × 21 columns</p>\n",
              "</div>"
            ],
            "text/plain": [
              "       age          job  marital  ... euribor3m nr.employed    y\n",
              "0       56    housemaid  married  ...     4.857      5191.0   no\n",
              "1       57     services  married  ...     4.857      5191.0   no\n",
              "2       37     services  married  ...     4.857      5191.0   no\n",
              "3       40       admin.  married  ...     4.857      5191.0   no\n",
              "4       56     services  married  ...     4.857      5191.0   no\n",
              "...    ...          ...      ...  ...       ...         ...  ...\n",
              "41183   73      retired  married  ...     1.028      4963.6  yes\n",
              "41184   46  blue-collar  married  ...     1.028      4963.6   no\n",
              "41185   56      retired  married  ...     1.028      4963.6   no\n",
              "41186   44   technician  married  ...     1.028      4963.6  yes\n",
              "41187   74      retired  married  ...     1.028      4963.6   no\n",
              "\n",
              "[41188 rows x 21 columns]"
            ]
          },
          "metadata": {
            "tags": []
          },
          "execution_count": 3
        }
      ]
    },
    {
      "cell_type": "code",
      "metadata": {
        "colab": {
          "base_uri": "https://localhost:8080/"
        },
        "id": "I5uQ8Tam5rUY",
        "outputId": "aa907b7f-bf01-4be2-84ef-54fb6c4ac27f"
      },
      "source": [
        "data.info()"
      ],
      "execution_count": 4,
      "outputs": [
        {
          "output_type": "stream",
          "text": [
            "<class 'pandas.core.frame.DataFrame'>\n",
            "RangeIndex: 41188 entries, 0 to 41187\n",
            "Data columns (total 21 columns):\n",
            " #   Column          Non-Null Count  Dtype  \n",
            "---  ------          --------------  -----  \n",
            " 0   age             41188 non-null  int64  \n",
            " 1   job             41188 non-null  object \n",
            " 2   marital         41188 non-null  object \n",
            " 3   education       41188 non-null  object \n",
            " 4   default         41188 non-null  object \n",
            " 5   housing         41188 non-null  object \n",
            " 6   loan            41188 non-null  object \n",
            " 7   contact         41188 non-null  object \n",
            " 8   month           41188 non-null  object \n",
            " 9   day_of_week     41188 non-null  object \n",
            " 10  duration        41188 non-null  int64  \n",
            " 11  campaign        41188 non-null  int64  \n",
            " 12  pdays           41188 non-null  int64  \n",
            " 13  previous        41188 non-null  int64  \n",
            " 14  poutcome        41188 non-null  object \n",
            " 15  emp.var.rate    41188 non-null  float64\n",
            " 16  cons.price.idx  41188 non-null  float64\n",
            " 17  cons.conf.idx   41188 non-null  float64\n",
            " 18  euribor3m       41188 non-null  float64\n",
            " 19  nr.employed     41188 non-null  float64\n",
            " 20  y               41188 non-null  object \n",
            "dtypes: float64(5), int64(5), object(11)\n",
            "memory usage: 6.6+ MB\n"
          ],
          "name": "stdout"
        }
      ]
    },
    {
      "cell_type": "code",
      "metadata": {
        "colab": {
          "base_uri": "https://localhost:8080/",
          "height": 304
        },
        "id": "7VrpNrTu56kX",
        "outputId": "ff1049af-63a0-45e2-d0ea-5b65d2bc7da3"
      },
      "source": [
        "data.describe()"
      ],
      "execution_count": 5,
      "outputs": [
        {
          "output_type": "execute_result",
          "data": {
            "text/html": [
              "<div>\n",
              "<style scoped>\n",
              "    .dataframe tbody tr th:only-of-type {\n",
              "        vertical-align: middle;\n",
              "    }\n",
              "\n",
              "    .dataframe tbody tr th {\n",
              "        vertical-align: top;\n",
              "    }\n",
              "\n",
              "    .dataframe thead th {\n",
              "        text-align: right;\n",
              "    }\n",
              "</style>\n",
              "<table border=\"1\" class=\"dataframe\">\n",
              "  <thead>\n",
              "    <tr style=\"text-align: right;\">\n",
              "      <th></th>\n",
              "      <th>age</th>\n",
              "      <th>duration</th>\n",
              "      <th>campaign</th>\n",
              "      <th>pdays</th>\n",
              "      <th>previous</th>\n",
              "      <th>emp.var.rate</th>\n",
              "      <th>cons.price.idx</th>\n",
              "      <th>cons.conf.idx</th>\n",
              "      <th>euribor3m</th>\n",
              "      <th>nr.employed</th>\n",
              "    </tr>\n",
              "  </thead>\n",
              "  <tbody>\n",
              "    <tr>\n",
              "      <th>count</th>\n",
              "      <td>41188.00000</td>\n",
              "      <td>41188.000000</td>\n",
              "      <td>41188.000000</td>\n",
              "      <td>41188.000000</td>\n",
              "      <td>41188.000000</td>\n",
              "      <td>41188.000000</td>\n",
              "      <td>41188.000000</td>\n",
              "      <td>41188.000000</td>\n",
              "      <td>41188.000000</td>\n",
              "      <td>41188.000000</td>\n",
              "    </tr>\n",
              "    <tr>\n",
              "      <th>mean</th>\n",
              "      <td>40.02406</td>\n",
              "      <td>258.285010</td>\n",
              "      <td>2.567593</td>\n",
              "      <td>962.475454</td>\n",
              "      <td>0.172963</td>\n",
              "      <td>0.081886</td>\n",
              "      <td>93.575664</td>\n",
              "      <td>-40.502600</td>\n",
              "      <td>3.621291</td>\n",
              "      <td>5167.035911</td>\n",
              "    </tr>\n",
              "    <tr>\n",
              "      <th>std</th>\n",
              "      <td>10.42125</td>\n",
              "      <td>259.279249</td>\n",
              "      <td>2.770014</td>\n",
              "      <td>186.910907</td>\n",
              "      <td>0.494901</td>\n",
              "      <td>1.570960</td>\n",
              "      <td>0.578840</td>\n",
              "      <td>4.628198</td>\n",
              "      <td>1.734447</td>\n",
              "      <td>72.251528</td>\n",
              "    </tr>\n",
              "    <tr>\n",
              "      <th>min</th>\n",
              "      <td>17.00000</td>\n",
              "      <td>0.000000</td>\n",
              "      <td>1.000000</td>\n",
              "      <td>0.000000</td>\n",
              "      <td>0.000000</td>\n",
              "      <td>-3.400000</td>\n",
              "      <td>92.201000</td>\n",
              "      <td>-50.800000</td>\n",
              "      <td>0.634000</td>\n",
              "      <td>4963.600000</td>\n",
              "    </tr>\n",
              "    <tr>\n",
              "      <th>25%</th>\n",
              "      <td>32.00000</td>\n",
              "      <td>102.000000</td>\n",
              "      <td>1.000000</td>\n",
              "      <td>999.000000</td>\n",
              "      <td>0.000000</td>\n",
              "      <td>-1.800000</td>\n",
              "      <td>93.075000</td>\n",
              "      <td>-42.700000</td>\n",
              "      <td>1.344000</td>\n",
              "      <td>5099.100000</td>\n",
              "    </tr>\n",
              "    <tr>\n",
              "      <th>50%</th>\n",
              "      <td>38.00000</td>\n",
              "      <td>180.000000</td>\n",
              "      <td>2.000000</td>\n",
              "      <td>999.000000</td>\n",
              "      <td>0.000000</td>\n",
              "      <td>1.100000</td>\n",
              "      <td>93.749000</td>\n",
              "      <td>-41.800000</td>\n",
              "      <td>4.857000</td>\n",
              "      <td>5191.000000</td>\n",
              "    </tr>\n",
              "    <tr>\n",
              "      <th>75%</th>\n",
              "      <td>47.00000</td>\n",
              "      <td>319.000000</td>\n",
              "      <td>3.000000</td>\n",
              "      <td>999.000000</td>\n",
              "      <td>0.000000</td>\n",
              "      <td>1.400000</td>\n",
              "      <td>93.994000</td>\n",
              "      <td>-36.400000</td>\n",
              "      <td>4.961000</td>\n",
              "      <td>5228.100000</td>\n",
              "    </tr>\n",
              "    <tr>\n",
              "      <th>max</th>\n",
              "      <td>98.00000</td>\n",
              "      <td>4918.000000</td>\n",
              "      <td>56.000000</td>\n",
              "      <td>999.000000</td>\n",
              "      <td>7.000000</td>\n",
              "      <td>1.400000</td>\n",
              "      <td>94.767000</td>\n",
              "      <td>-26.900000</td>\n",
              "      <td>5.045000</td>\n",
              "      <td>5228.100000</td>\n",
              "    </tr>\n",
              "  </tbody>\n",
              "</table>\n",
              "</div>"
            ],
            "text/plain": [
              "               age      duration  ...     euribor3m   nr.employed\n",
              "count  41188.00000  41188.000000  ...  41188.000000  41188.000000\n",
              "mean      40.02406    258.285010  ...      3.621291   5167.035911\n",
              "std       10.42125    259.279249  ...      1.734447     72.251528\n",
              "min       17.00000      0.000000  ...      0.634000   4963.600000\n",
              "25%       32.00000    102.000000  ...      1.344000   5099.100000\n",
              "50%       38.00000    180.000000  ...      4.857000   5191.000000\n",
              "75%       47.00000    319.000000  ...      4.961000   5228.100000\n",
              "max       98.00000   4918.000000  ...      5.045000   5228.100000\n",
              "\n",
              "[8 rows x 10 columns]"
            ]
          },
          "metadata": {
            "tags": []
          },
          "execution_count": 5
        }
      ]
    },
    {
      "cell_type": "code",
      "metadata": {
        "colab": {
          "base_uri": "https://localhost:8080/"
        },
        "id": "G1go9hBB7lh_",
        "outputId": "6800928d-ad48-46fd-ea3a-79ca39357110"
      },
      "source": [
        "data.isnull().sum()"
      ],
      "execution_count": 6,
      "outputs": [
        {
          "output_type": "execute_result",
          "data": {
            "text/plain": [
              "age               0\n",
              "job               0\n",
              "marital           0\n",
              "education         0\n",
              "default           0\n",
              "housing           0\n",
              "loan              0\n",
              "contact           0\n",
              "month             0\n",
              "day_of_week       0\n",
              "duration          0\n",
              "campaign          0\n",
              "pdays             0\n",
              "previous          0\n",
              "poutcome          0\n",
              "emp.var.rate      0\n",
              "cons.price.idx    0\n",
              "cons.conf.idx     0\n",
              "euribor3m         0\n",
              "nr.employed       0\n",
              "y                 0\n",
              "dtype: int64"
            ]
          },
          "metadata": {
            "tags": []
          },
          "execution_count": 6
        }
      ]
    },
    {
      "cell_type": "code",
      "metadata": {
        "colab": {
          "base_uri": "https://localhost:8080/",
          "height": 510
        },
        "id": "Quye2XEi7scg",
        "outputId": "7abd3e6c-4c84-4df1-c878-530fe0ebba1b"
      },
      "source": [
        "data.hist()"
      ],
      "execution_count": 7,
      "outputs": [
        {
          "output_type": "execute_result",
          "data": {
            "text/plain": [
              "array([[<matplotlib.axes._subplots.AxesSubplot object at 0x7fba7bd5bd10>,\n",
              "        <matplotlib.axes._subplots.AxesSubplot object at 0x7fba7bd3e450>,\n",
              "        <matplotlib.axes._subplots.AxesSubplot object at 0x7fba7bcf0ad0>],\n",
              "       [<matplotlib.axes._subplots.AxesSubplot object at 0x7fba7bcb3110>,\n",
              "        <matplotlib.axes._subplots.AxesSubplot object at 0x7fba7bc6a790>,\n",
              "        <matplotlib.axes._subplots.AxesSubplot object at 0x7fba7bc22ad0>],\n",
              "       [<matplotlib.axes._subplots.AxesSubplot object at 0x7fba7bbcbb90>,\n",
              "        <matplotlib.axes._subplots.AxesSubplot object at 0x7fba7bb975d0>,\n",
              "        <matplotlib.axes._subplots.AxesSubplot object at 0x7fba7bb97610>],\n",
              "       [<matplotlib.axes._subplots.AxesSubplot object at 0x7fba7bb4dc90>,\n",
              "        <matplotlib.axes._subplots.AxesSubplot object at 0x7fba7bb436d0>,\n",
              "        <matplotlib.axes._subplots.AxesSubplot object at 0x7fba7baf9c50>]],\n",
              "      dtype=object)"
            ]
          },
          "metadata": {
            "tags": []
          },
          "execution_count": 7
        },
        {
          "output_type": "display_data",
          "data": {
            "image/png": "[encoded data removed]",
            "text/plain": [
              "<Figure size 432x288 with 12 Axes>"
            ]
          },
          "metadata": {
            "tags": [],
            "needs_background": "light"
          }
        }
      ]
    },
    {
      "cell_type": "code",
      "metadata": {
        "colab": {
          "base_uri": "https://localhost:8080/",
          "height": 878
        },
        "id": "ENRhTtTC8yWv",
        "outputId": "1c158fb6-4f46-407a-dac0-31c77b5901ac"
      },
      "source": [
        "sns.set(style=\"whitegrid\", font_scale=1)\n",
        "plt.figure(figsize=(15,15))\n",
        "plt.title('Pearson', fontsize=15)\n",
        "sns.heatmap(data.corr(),vmax = 0.7, square = True, cmap='GnBu',linecolor='b',annot=True,annot_kws={'size':9})"
      ],
      "execution_count": 8,
      "outputs": [
        {
          "output_type": "execute_result",
          "data": {
            "text/plain": [
              "<matplotlib.axes._subplots.AxesSubplot at 0x7fba7da18e90>"
            ]
          },
          "metadata": {
            "tags": []
          },
          "execution_count": 8
        },
        {
          "output_type": "display_data",
          "data": {
            "image/png": "[encoded data removed]",
            "text/plain": [
              "<Figure size 1080x1080 with 2 Axes>"
            ]
          },
          "metadata": {
            "tags": []
          }
        }
      ]
    },
    {
      "cell_type": "code",
      "metadata": {
        "id": "-R3fCzkt_dgi"
      },
      "source": [
        "x_aux = data.iloc[:,0:20]\n",
        "x_aux = x_aux.drop(['pdays'],axis=1)\n",
        "X = pd.get_dummies(x_aux)\n",
        "y = data.iloc[:,20]"
      ],
      "execution_count": 9,
      "outputs": []
    },
    {
      "cell_type": "code",
      "metadata": {
        "colab": {
          "base_uri": "https://localhost:8080/",
          "height": 438
        },
        "id": "X-zwHKRFAMFA",
        "outputId": "88162d04-0121-4870-b33b-57a6f0d3c846"
      },
      "source": [
        "X"
      ],
      "execution_count": 10,
      "outputs": [
        {
          "output_type": "execute_result",
          "data": {
            "text/html": [
              "<div>\n",
              "<style scoped>\n",
              "    .dataframe tbody tr th:only-of-type {\n",
              "        vertical-align: middle;\n",
              "    }\n",
              "\n",
              "    .dataframe tbody tr th {\n",
              "        vertical-align: top;\n",
              "    }\n",
              "\n",
              "    .dataframe thead th {\n",
              "        text-align: right;\n",
              "    }\n",
              "</style>\n",
              "<table border=\"1\" class=\"dataframe\">\n",
              "  <thead>\n",
              "    <tr style=\"text-align: right;\">\n",
              "      <th></th>\n",
              "      <th>age</th>\n",
              "      <th>duration</th>\n",
              "      <th>campaign</th>\n",
              "      <th>previous</th>\n",
              "      <th>emp.var.rate</th>\n",
              "      <th>cons.price.idx</th>\n",
              "      <th>cons.conf.idx</th>\n",
              "      <th>euribor3m</th>\n",
              "      <th>nr.employed</th>\n",
              "      <th>job_admin.</th>\n",
              "      <th>job_blue-collar</th>\n",
              "      <th>job_entrepreneur</th>\n",
              "      <th>job_housemaid</th>\n",
              "      <th>job_management</th>\n",
              "      <th>job_retired</th>\n",
              "      <th>job_self-employed</th>\n",
              "      <th>job_services</th>\n",
              "      <th>job_student</th>\n",
              "      <th>job_technician</th>\n",
              "      <th>job_unemployed</th>\n",
              "      <th>job_unknown</th>\n",
              "      <th>marital_divorced</th>\n",
              "      <th>marital_married</th>\n",
              "      <th>marital_single</th>\n",
              "      <th>marital_unknown</th>\n",
              "      <th>education_basic.4y</th>\n",
              "      <th>education_basic.6y</th>\n",
              "      <th>education_basic.9y</th>\n",
              "      <th>education_high.school</th>\n",
              "      <th>education_illiterate</th>\n",
              "      <th>education_professional.course</th>\n",
              "      <th>education_university.degree</th>\n",
              "      <th>education_unknown</th>\n",
              "      <th>default_no</th>\n",
              "      <th>default_unknown</th>\n",
              "      <th>default_yes</th>\n",
              "      <th>housing_no</th>\n",
              "      <th>housing_unknown</th>\n",
              "      <th>housing_yes</th>\n",
              "      <th>loan_no</th>\n",
              "      <th>loan_unknown</th>\n",
              "      <th>loan_yes</th>\n",
              "      <th>contact_cellular</th>\n",
              "      <th>contact_telephone</th>\n",
              "      <th>month_apr</th>\n",
              "      <th>month_aug</th>\n",
              "      <th>month_dec</th>\n",
              "      <th>month_jul</th>\n",
              "      <th>month_jun</th>\n",
              "      <th>month_mar</th>\n",
              "      <th>month_may</th>\n",
              "      <th>month_nov</th>\n",
              "      <th>month_oct</th>\n",
              "      <th>month_sep</th>\n",
              "      <th>day_of_week_fri</th>\n",
              "      <th>day_of_week_mon</th>\n",
              "      <th>day_of_week_thu</th>\n",
              "      <th>day_of_week_tue</th>\n",
              "      <th>day_of_week_wed</th>\n",
              "      <th>poutcome_failure</th>\n",
              "      <th>poutcome_nonexistent</th>\n",
              "      <th>poutcome_success</th>\n",
              "    </tr>\n",
              "  </thead>\n",
              "  <tbody>\n",
              "    <tr>\n",
              "      <th>0</th>\n",
              "      <td>56</td>\n",
              "      <td>261</td>\n",
              "      <td>1</td>\n",
              "      <td>0</td>\n",
              "      <td>1.1</td>\n",
              "      <td>93.994</td>\n",
              "      <td>-36.4</td>\n",
              "      <td>4.857</td>\n",
              "      <td>5191.0</td>\n",
              "      <td>0</td>\n",
              "      <td>0</td>\n",
              "      <td>0</td>\n",
              "      <td>1</td>\n",
              "      <td>0</td>\n",
              "      <td>0</td>\n",
              "      <td>0</td>\n",
              "      <td>0</td>\n",
              "      <td>0</td>\n",
              "      <td>0</td>\n",
              "      <td>0</td>\n",
              "      <td>0</td>\n",
              "      <td>0</td>\n",
              "      <td>1</td>\n",
              "      <td>0</td>\n",
              "      <td>0</td>\n",
              "      <td>1</td>\n",
              "      <td>0</td>\n",
              "      <td>0</td>\n",
              "      <td>0</td>\n",
              "      <td>0</td>\n",
              "      <td>0</td>\n",
              "      <td>0</td>\n",
              "      <td>0</td>\n",
              "      <td>1</td>\n",
              "      <td>0</td>\n",
              "      <td>0</td>\n",
              "      <td>1</td>\n",
              "      <td>0</td>\n",
              "      <td>0</td>\n",
              "      <td>1</td>\n",
              "      <td>0</td>\n",
              "      <td>0</td>\n",
              "      <td>0</td>\n",
              "      <td>1</td>\n",
              "      <td>0</td>\n",
              "      <td>0</td>\n",
              "      <td>0</td>\n",
              "      <td>0</td>\n",
              "      <td>0</td>\n",
              "      <td>0</td>\n",
              "      <td>1</td>\n",
              "      <td>0</td>\n",
              "      <td>0</td>\n",
              "      <td>0</td>\n",
              "      <td>0</td>\n",
              "      <td>1</td>\n",
              "      <td>0</td>\n",
              "      <td>0</td>\n",
              "      <td>0</td>\n",
              "      <td>0</td>\n",
              "      <td>1</td>\n",
              "      <td>0</td>\n",
              "    </tr>\n",
              "    <tr>\n",
              "      <th>1</th>\n",
              "      <td>57</td>\n",
              "      <td>149</td>\n",
              "      <td>1</td>\n",
              "      <td>0</td>\n",
              "      <td>1.1</td>\n",
              "      <td>93.994</td>\n",
              "      <td>-36.4</td>\n",
              "      <td>4.857</td>\n",
              "      <td>5191.0</td>\n",
              "      <td>0</td>\n",
              "      <td>0</td>\n",
              "      <td>0</td>\n",
              "      <td>0</td>\n",
              "      <td>0</td>\n",
              "      <td>0</td>\n",
              "      <td>0</td>\n",
              "      <td>1</td>\n",
              "      <td>0</td>\n",
              "      <td>0</td>\n",
              "      <td>0</td>\n",
              "      <td>0</td>\n",
              "      <td>0</td>\n",
              "      <td>1</td>\n",
              "      <td>0</td>\n",
              "      <td>0</td>\n",
              "      <td>0</td>\n",
              "      <td>0</td>\n",
              "      <td>0</td>\n",
              "      <td>1</td>\n",
              "      <td>0</td>\n",
              "      <td>0</td>\n",
              "      <td>0</td>\n",
              "      <td>0</td>\n",
              "      <td>0</td>\n",
              "      <td>1</td>\n",
              "      <td>0</td>\n",
              "      <td>1</td>\n",
              "      <td>0</td>\n",
              "      <td>0</td>\n",
              "      <td>1</td>\n",
              "      <td>0</td>\n",
              "      <td>0</td>\n",
              "      <td>0</td>\n",
              "      <td>1</td>\n",
              "      <td>0</td>\n",
              "      <td>0</td>\n",
              "      <td>0</td>\n",
              "      <td>0</td>\n",
              "      <td>0</td>\n",
              "      <td>0</td>\n",
              "      <td>1</td>\n",
              "      <td>0</td>\n",
              "      <td>0</td>\n",
              "      <td>0</td>\n",
              "      <td>0</td>\n",
              "      <td>1</td>\n",
              "      <td>0</td>\n",
              "      <td>0</td>\n",
              "      <td>0</td>\n",
              "      <td>0</td>\n",
              "      <td>1</td>\n",
              "      <td>0</td>\n",
              "    </tr>\n",
              "    <tr>\n",
              "      <th>2</th>\n",
              "      <td>37</td>\n",
              "      <td>226</td>\n",
              "      <td>1</td>\n",
              "      <td>0</td>\n",
              "      <td>1.1</td>\n",
              "      <td>93.994</td>\n",
              "      <td>-36.4</td>\n",
              "      <td>4.857</td>\n",
              "      <td>5191.0</td>\n",
              "      <td>0</td>\n",
              "      <td>0</td>\n",
              "      <td>0</td>\n",
              "      <td>0</td>\n",
              "      <td>0</td>\n",
              "      <td>0</td>\n",
              "      <td>0</td>\n",
              "      <td>1</td>\n",
              "      <td>0</td>\n",
              "      <td>0</td>\n",
              "      <td>0</td>\n",
              "      <td>0</td>\n",
              "      <td>0</td>\n",
              "      <td>1</td>\n",
              "      <td>0</td>\n",
              "      <td>0</td>\n",
              "      <td>0</td>\n",
              "      <td>0</td>\n",
              "      <td>0</td>\n",
              "      <td>1</td>\n",
              "      <td>0</td>\n",
              "      <td>0</td>\n",
              "      <td>0</td>\n",
              "      <td>0</td>\n",
              "      <td>1</td>\n",
              "      <td>0</td>\n",
              "      <td>0</td>\n",
              "      <td>0</td>\n",
              "      <td>0</td>\n",
              "      <td>1</td>\n",
              "      <td>1</td>\n",
              "      <td>0</td>\n",
              "      <td>0</td>\n",
              "      <td>0</td>\n",
              "      <td>1</td>\n",
              "      <td>0</td>\n",
              "      <td>0</td>\n",
              "      <td>0</td>\n",
              "      <td>0</td>\n",
              "      <td>0</td>\n",
              "      <td>0</td>\n",
              "      <td>1</td>\n",
              "      <td>0</td>\n",
              "      <td>0</td>\n",
              "      <td>0</td>\n",
              "      <td>0</td>\n",
              "      <td>1</td>\n",
              "      <td>0</td>\n",
              "      <td>0</td>\n",
              "      <td>0</td>\n",
              "      <td>0</td>\n",
              "      <td>1</td>\n",
              "      <td>0</td>\n",
              "    </tr>\n",
              "    <tr>\n",
              "      <th>3</th>\n",
              "      <td>40</td>\n",
              "      <td>151</td>\n",
              "      <td>1</td>\n",
              "      <td>0</td>\n",
              "      <td>1.1</td>\n",
              "      <td>93.994</td>\n",
              "      <td>-36.4</td>\n",
              "      <td>4.857</td>\n",
              "      <td>5191.0</td>\n",
              "      <td>1</td>\n",
              "      <td>0</td>\n",
              "      <td>0</td>\n",
              "      <td>0</td>\n",
              "      <td>0</td>\n",
              "      <td>0</td>\n",
              "      <td>0</td>\n",
              "      <td>0</td>\n",
              "      <td>0</td>\n",
              "      <td>0</td>\n",
              "      <td>0</td>\n",
              "      <td>0</td>\n",
              "      <td>0</td>\n",
              "      <td>1</td>\n",
              "      <td>0</td>\n",
              "      <td>0</td>\n",
              "      <td>0</td>\n",
              "      <td>1</td>\n",
              "      <td>0</td>\n",
              "      <td>0</td>\n",
              "      <td>0</td>\n",
              "      <td>0</td>\n",
              "      <td>0</td>\n",
              "      <td>0</td>\n",
              "      <td>1</td>\n",
              "      <td>0</td>\n",
              "      <td>0</td>\n",
              "      <td>1</td>\n",
              "      <td>0</td>\n",
              "      <td>0</td>\n",
              "      <td>1</td>\n",
              "      <td>0</td>\n",
              "      <td>0</td>\n",
              "      <td>0</td>\n",
              "      <td>1</td>\n",
              "      <td>0</td>\n",
              "      <td>0</td>\n",
              "      <td>0</td>\n",
              "      <td>0</td>\n",
              "      <td>0</td>\n",
              "      <td>0</td>\n",
              "      <td>1</td>\n",
              "      <td>0</td>\n",
              "      <td>0</td>\n",
              "      <td>0</td>\n",
              "      <td>0</td>\n",
              "      <td>1</td>\n",
              "      <td>0</td>\n",
              "      <td>0</td>\n",
              "      <td>0</td>\n",
              "      <td>0</td>\n",
              "      <td>1</td>\n",
              "      <td>0</td>\n",
              "    </tr>\n",
              "    <tr>\n",
              "      <th>4</th>\n",
              "      <td>56</td>\n",
              "      <td>307</td>\n",
              "      <td>1</td>\n",
              "      <td>0</td>\n",
              "      <td>1.1</td>\n",
              "      <td>93.994</td>\n",
              "      <td>-36.4</td>\n",
              "      <td>4.857</td>\n",
              "      <td>5191.0</td>\n",
              "      <td>0</td>\n",
              "      <td>0</td>\n",
              "      <td>0</td>\n",
              "      <td>0</td>\n",
              "      <td>0</td>\n",
              "      <td>0</td>\n",
              "      <td>0</td>\n",
              "      <td>1</td>\n",
              "      <td>0</td>\n",
              "      <td>0</td>\n",
              "      <td>0</td>\n",
              "      <td>0</td>\n",
              "      <td>0</td>\n",
              "      <td>1</td>\n",
              "      <td>0</td>\n",
              "      <td>0</td>\n",
              "      <td>0</td>\n",
              "      <td>0</td>\n",
              "      <td>0</td>\n",
              "      <td>1</td>\n",
              "      <td>0</td>\n",
              "      <td>0</td>\n",
              "      <td>0</td>\n",
              "      <td>0</td>\n",
              "      <td>1</td>\n",
              "      <td>0</td>\n",
              "      <td>0</td>\n",
              "      <td>1</td>\n",
              "      <td>0</td>\n",
              "      <td>0</td>\n",
              "      <td>0</td>\n",
              "      <td>0</td>\n",
              "      <td>1</td>\n",
              "      <td>0</td>\n",
              "      <td>1</td>\n",
              "      <td>0</td>\n",
              "      <td>0</td>\n",
              "      <td>0</td>\n",
              "      <td>0</td>\n",
              "      <td>0</td>\n",
              "      <td>0</td>\n",
              "      <td>1</td>\n",
              "      <td>0</td>\n",
              "      <td>0</td>\n",
              "      <td>0</td>\n",
              "      <td>0</td>\n",
              "      <td>1</td>\n",
              "      <td>0</td>\n",
              "      <td>0</td>\n",
              "      <td>0</td>\n",
              "      <td>0</td>\n",
              "      <td>1</td>\n",
              "      <td>0</td>\n",
              "    </tr>\n",
              "    <tr>\n",
              "      <th>...</th>\n",
              "      <td>...</td>\n",
              "      <td>...</td>\n",
              "      <td>...</td>\n",
              "      <td>...</td>\n",
              "      <td>...</td>\n",
              "      <td>...</td>\n",
              "      <td>...</td>\n",
              "      <td>...</td>\n",
              "      <td>...</td>\n",
              "      <td>...</td>\n",
              "      <td>...</td>\n",
              "      <td>...</td>\n",
              "      <td>...</td>\n",
              "      <td>...</td>\n",
              "      <td>...</td>\n",
              "      <td>...</td>\n",
              "      <td>...</td>\n",
              "      <td>...</td>\n",
              "      <td>...</td>\n",
              "      <td>...</td>\n",
              "      <td>...</td>\n",
              "      <td>...</td>\n",
              "      <td>...</td>\n",
              "      <td>...</td>\n",
              "      <td>...</td>\n",
              "      <td>...</td>\n",
              "      <td>...</td>\n",
              "      <td>...</td>\n",
              "      <td>...</td>\n",
              "      <td>...</td>\n",
              "      <td>...</td>\n",
              "      <td>...</td>\n",
              "      <td>...</td>\n",
              "      <td>...</td>\n",
              "      <td>...</td>\n",
              "      <td>...</td>\n",
              "      <td>...</td>\n",
              "      <td>...</td>\n",
              "      <td>...</td>\n",
              "      <td>...</td>\n",
              "      <td>...</td>\n",
              "      <td>...</td>\n",
              "      <td>...</td>\n",
              "      <td>...</td>\n",
              "      <td>...</td>\n",
              "      <td>...</td>\n",
              "      <td>...</td>\n",
              "      <td>...</td>\n",
              "      <td>...</td>\n",
              "      <td>...</td>\n",
              "      <td>...</td>\n",
              "      <td>...</td>\n",
              "      <td>...</td>\n",
              "      <td>...</td>\n",
              "      <td>...</td>\n",
              "      <td>...</td>\n",
              "      <td>...</td>\n",
              "      <td>...</td>\n",
              "      <td>...</td>\n",
              "      <td>...</td>\n",
              "      <td>...</td>\n",
              "      <td>...</td>\n",
              "    </tr>\n",
              "    <tr>\n",
              "      <th>41183</th>\n",
              "      <td>73</td>\n",
              "      <td>334</td>\n",
              "      <td>1</td>\n",
              "      <td>0</td>\n",
              "      <td>-1.1</td>\n",
              "      <td>94.767</td>\n",
              "      <td>-50.8</td>\n",
              "      <td>1.028</td>\n",
              "      <td>4963.6</td>\n",
              "      <td>0</td>\n",
              "      <td>0</td>\n",
              "      <td>0</td>\n",
              "      <td>0</td>\n",
              "      <td>0</td>\n",
              "      <td>1</td>\n",
              "      <td>0</td>\n",
              "      <td>0</td>\n",
              "      <td>0</td>\n",
              "      <td>0</td>\n",
              "      <td>0</td>\n",
              "      <td>0</td>\n",
              "      <td>0</td>\n",
              "      <td>1</td>\n",
              "      <td>0</td>\n",
              "      <td>0</td>\n",
              "      <td>0</td>\n",
              "      <td>0</td>\n",
              "      <td>0</td>\n",
              "      <td>0</td>\n",
              "      <td>0</td>\n",
              "      <td>1</td>\n",
              "      <td>0</td>\n",
              "      <td>0</td>\n",
              "      <td>1</td>\n",
              "      <td>0</td>\n",
              "      <td>0</td>\n",
              "      <td>0</td>\n",
              "      <td>0</td>\n",
              "      <td>1</td>\n",
              "      <td>1</td>\n",
              "      <td>0</td>\n",
              "      <td>0</td>\n",
              "      <td>1</td>\n",
              "      <td>0</td>\n",
              "      <td>0</td>\n",
              "      <td>0</td>\n",
              "      <td>0</td>\n",
              "      <td>0</td>\n",
              "      <td>0</td>\n",
              "      <td>0</td>\n",
              "      <td>0</td>\n",
              "      <td>1</td>\n",
              "      <td>0</td>\n",
              "      <td>0</td>\n",
              "      <td>1</td>\n",
              "      <td>0</td>\n",
              "      <td>0</td>\n",
              "      <td>0</td>\n",
              "      <td>0</td>\n",
              "      <td>0</td>\n",
              "      <td>1</td>\n",
              "      <td>0</td>\n",
              "    </tr>\n",
              "    <tr>\n",
              "      <th>41184</th>\n",
              "      <td>46</td>\n",
              "      <td>383</td>\n",
              "      <td>1</td>\n",
              "      <td>0</td>\n",
              "      <td>-1.1</td>\n",
              "      <td>94.767</td>\n",
              "      <td>-50.8</td>\n",
              "      <td>1.028</td>\n",
              "      <td>4963.6</td>\n",
              "      <td>0</td>\n",
              "      <td>1</td>\n",
              "      <td>0</td>\n",
              "      <td>0</td>\n",
              "      <td>0</td>\n",
              "      <td>0</td>\n",
              "      <td>0</td>\n",
              "      <td>0</td>\n",
              "      <td>0</td>\n",
              "      <td>0</td>\n",
              "      <td>0</td>\n",
              "      <td>0</td>\n",
              "      <td>0</td>\n",
              "      <td>1</td>\n",
              "      <td>0</td>\n",
              "      <td>0</td>\n",
              "      <td>0</td>\n",
              "      <td>0</td>\n",
              "      <td>0</td>\n",
              "      <td>0</td>\n",
              "      <td>0</td>\n",
              "      <td>1</td>\n",
              "      <td>0</td>\n",
              "      <td>0</td>\n",
              "      <td>1</td>\n",
              "      <td>0</td>\n",
              "      <td>0</td>\n",
              "      <td>1</td>\n",
              "      <td>0</td>\n",
              "      <td>0</td>\n",
              "      <td>1</td>\n",
              "      <td>0</td>\n",
              "      <td>0</td>\n",
              "      <td>1</td>\n",
              "      <td>0</td>\n",
              "      <td>0</td>\n",
              "      <td>0</td>\n",
              "      <td>0</td>\n",
              "      <td>0</td>\n",
              "      <td>0</td>\n",
              "      <td>0</td>\n",
              "      <td>0</td>\n",
              "      <td>1</td>\n",
              "      <td>0</td>\n",
              "      <td>0</td>\n",
              "      <td>1</td>\n",
              "      <td>0</td>\n",
              "      <td>0</td>\n",
              "      <td>0</td>\n",
              "      <td>0</td>\n",
              "      <td>0</td>\n",
              "      <td>1</td>\n",
              "      <td>0</td>\n",
              "    </tr>\n",
              "    <tr>\n",
              "      <th>41185</th>\n",
              "      <td>56</td>\n",
              "      <td>189</td>\n",
              "      <td>2</td>\n",
              "      <td>0</td>\n",
              "      <td>-1.1</td>\n",
              "      <td>94.767</td>\n",
              "      <td>-50.8</td>\n",
              "      <td>1.028</td>\n",
              "      <td>4963.6</td>\n",
              "      <td>0</td>\n",
              "      <td>0</td>\n",
              "      <td>0</td>\n",
              "      <td>0</td>\n",
              "      <td>0</td>\n",
              "      <td>1</td>\n",
              "      <td>0</td>\n",
              "      <td>0</td>\n",
              "      <td>0</td>\n",
              "      <td>0</td>\n",
              "      <td>0</td>\n",
              "      <td>0</td>\n",
              "      <td>0</td>\n",
              "      <td>1</td>\n",
              "      <td>0</td>\n",
              "      <td>0</td>\n",
              "      <td>0</td>\n",
              "      <td>0</td>\n",
              "      <td>0</td>\n",
              "      <td>0</td>\n",
              "      <td>0</td>\n",
              "      <td>0</td>\n",
              "      <td>1</td>\n",
              "      <td>0</td>\n",
              "      <td>1</td>\n",
              "      <td>0</td>\n",
              "      <td>0</td>\n",
              "      <td>0</td>\n",
              "      <td>0</td>\n",
              "      <td>1</td>\n",
              "      <td>1</td>\n",
              "      <td>0</td>\n",
              "      <td>0</td>\n",
              "      <td>1</td>\n",
              "      <td>0</td>\n",
              "      <td>0</td>\n",
              "      <td>0</td>\n",
              "      <td>0</td>\n",
              "      <td>0</td>\n",
              "      <td>0</td>\n",
              "      <td>0</td>\n",
              "      <td>0</td>\n",
              "      <td>1</td>\n",
              "      <td>0</td>\n",
              "      <td>0</td>\n",
              "      <td>1</td>\n",
              "      <td>0</td>\n",
              "      <td>0</td>\n",
              "      <td>0</td>\n",
              "      <td>0</td>\n",
              "      <td>0</td>\n",
              "      <td>1</td>\n",
              "      <td>0</td>\n",
              "    </tr>\n",
              "    <tr>\n",
              "      <th>41186</th>\n",
              "      <td>44</td>\n",
              "      <td>442</td>\n",
              "      <td>1</td>\n",
              "      <td>0</td>\n",
              "      <td>-1.1</td>\n",
              "      <td>94.767</td>\n",
              "      <td>-50.8</td>\n",
              "      <td>1.028</td>\n",
              "      <td>4963.6</td>\n",
              "      <td>0</td>\n",
              "      <td>0</td>\n",
              "      <td>0</td>\n",
              "      <td>0</td>\n",
              "      <td>0</td>\n",
              "      <td>0</td>\n",
              "      <td>0</td>\n",
              "      <td>0</td>\n",
              "      <td>0</td>\n",
              "      <td>1</td>\n",
              "      <td>0</td>\n",
              "      <td>0</td>\n",
              "      <td>0</td>\n",
              "      <td>1</td>\n",
              "      <td>0</td>\n",
              "      <td>0</td>\n",
              "      <td>0</td>\n",
              "      <td>0</td>\n",
              "      <td>0</td>\n",
              "      <td>0</td>\n",
              "      <td>0</td>\n",
              "      <td>1</td>\n",
              "      <td>0</td>\n",
              "      <td>0</td>\n",
              "      <td>1</td>\n",
              "      <td>0</td>\n",
              "      <td>0</td>\n",
              "      <td>1</td>\n",
              "      <td>0</td>\n",
              "      <td>0</td>\n",
              "      <td>1</td>\n",
              "      <td>0</td>\n",
              "      <td>0</td>\n",
              "      <td>1</td>\n",
              "      <td>0</td>\n",
              "      <td>0</td>\n",
              "      <td>0</td>\n",
              "      <td>0</td>\n",
              "      <td>0</td>\n",
              "      <td>0</td>\n",
              "      <td>0</td>\n",
              "      <td>0</td>\n",
              "      <td>1</td>\n",
              "      <td>0</td>\n",
              "      <td>0</td>\n",
              "      <td>1</td>\n",
              "      <td>0</td>\n",
              "      <td>0</td>\n",
              "      <td>0</td>\n",
              "      <td>0</td>\n",
              "      <td>0</td>\n",
              "      <td>1</td>\n",
              "      <td>0</td>\n",
              "    </tr>\n",
              "    <tr>\n",
              "      <th>41187</th>\n",
              "      <td>74</td>\n",
              "      <td>239</td>\n",
              "      <td>3</td>\n",
              "      <td>1</td>\n",
              "      <td>-1.1</td>\n",
              "      <td>94.767</td>\n",
              "      <td>-50.8</td>\n",
              "      <td>1.028</td>\n",
              "      <td>4963.6</td>\n",
              "      <td>0</td>\n",
              "      <td>0</td>\n",
              "      <td>0</td>\n",
              "      <td>0</td>\n",
              "      <td>0</td>\n",
              "      <td>1</td>\n",
              "      <td>0</td>\n",
              "      <td>0</td>\n",
              "      <td>0</td>\n",
              "      <td>0</td>\n",
              "      <td>0</td>\n",
              "      <td>0</td>\n",
              "      <td>0</td>\n",
              "      <td>1</td>\n",
              "      <td>0</td>\n",
              "      <td>0</td>\n",
              "      <td>0</td>\n",
              "      <td>0</td>\n",
              "      <td>0</td>\n",
              "      <td>0</td>\n",
              "      <td>0</td>\n",
              "      <td>1</td>\n",
              "      <td>0</td>\n",
              "      <td>0</td>\n",
              "      <td>1</td>\n",
              "      <td>0</td>\n",
              "      <td>0</td>\n",
              "      <td>0</td>\n",
              "      <td>0</td>\n",
              "      <td>1</td>\n",
              "      <td>1</td>\n",
              "      <td>0</td>\n",
              "      <td>0</td>\n",
              "      <td>1</td>\n",
              "      <td>0</td>\n",
              "      <td>0</td>\n",
              "      <td>0</td>\n",
              "      <td>0</td>\n",
              "      <td>0</td>\n",
              "      <td>0</td>\n",
              "      <td>0</td>\n",
              "      <td>0</td>\n",
              "      <td>1</td>\n",
              "      <td>0</td>\n",
              "      <td>0</td>\n",
              "      <td>1</td>\n",
              "      <td>0</td>\n",
              "      <td>0</td>\n",
              "      <td>0</td>\n",
              "      <td>0</td>\n",
              "      <td>1</td>\n",
              "      <td>0</td>\n",
              "      <td>0</td>\n",
              "    </tr>\n",
              "  </tbody>\n",
              "</table>\n",
              "<p>41188 rows × 62 columns</p>\n",
              "</div>"
            ],
            "text/plain": [
              "       age  duration  ...  poutcome_nonexistent  poutcome_success\n",
              "0       56       261  ...                     1                 0\n",
              "1       57       149  ...                     1                 0\n",
              "2       37       226  ...                     1                 0\n",
              "3       40       151  ...                     1                 0\n",
              "4       56       307  ...                     1                 0\n",
              "...    ...       ...  ...                   ...               ...\n",
              "41183   73       334  ...                     1                 0\n",
              "41184   46       383  ...                     1                 0\n",
              "41185   56       189  ...                     1                 0\n",
              "41186   44       442  ...                     1                 0\n",
              "41187   74       239  ...                     0                 0\n",
              "\n",
              "[41188 rows x 62 columns]"
            ]
          },
          "metadata": {
            "tags": []
          },
          "execution_count": 10
        }
      ]
    },
    {
      "cell_type": "code",
      "metadata": {
        "colab": {
          "base_uri": "https://localhost:8080/"
        },
        "id": "mg0lx-KrAN1w",
        "outputId": "4f39b6ca-f5f0-45e8-8890-1ad4e5876c6a"
      },
      "source": [
        "y"
      ],
      "execution_count": 11,
      "outputs": [
        {
          "output_type": "execute_result",
          "data": {
            "text/plain": [
              "0         no\n",
              "1         no\n",
              "2         no\n",
              "3         no\n",
              "4         no\n",
              "        ... \n",
              "41183    yes\n",
              "41184     no\n",
              "41185     no\n",
              "41186    yes\n",
              "41187     no\n",
              "Name: y, Length: 41188, dtype: object"
            ]
          },
          "metadata": {
            "tags": []
          },
          "execution_count": 11
        }
      ]
    },
    {
      "cell_type": "code",
      "metadata": {
        "colab": {
          "base_uri": "https://localhost:8080/"
        },
        "id": "OZ4FGUkRAmWv",
        "outputId": "8eaf7647-b2c4-4133-fe29-bd6bb477de87"
      },
      "source": [
        "X.shape"
      ],
      "execution_count": 12,
      "outputs": [
        {
          "output_type": "execute_result",
          "data": {
            "text/plain": [
              "(41188, 62)"
            ]
          },
          "metadata": {
            "tags": []
          },
          "execution_count": 12
        }
      ]
    },
    {
      "cell_type": "code",
      "metadata": {
        "colab": {
          "base_uri": "https://localhost:8080/"
        },
        "id": "UCDTc6XEAod3",
        "outputId": "a034be6a-c026-4ecd-900c-cb63ccb0850c"
      },
      "source": [
        "y.shape"
      ],
      "execution_count": 13,
      "outputs": [
        {
          "output_type": "execute_result",
          "data": {
            "text/plain": [
              "(41188,)"
            ]
          },
          "metadata": {
            "tags": []
          },
          "execution_count": 13
        }
      ]
    },
    {
      "cell_type": "code",
      "metadata": {
        "colab": {
          "base_uri": "https://localhost:8080/"
        },
        "id": "GMwEFmT6AzX_",
        "outputId": "ef1d375e-c901-454c-ec63-9b5ae44a015a"
      },
      "source": [
        "X.info()"
      ],
      "execution_count": 14,
      "outputs": [
        {
          "output_type": "stream",
          "text": [
            "<class 'pandas.core.frame.DataFrame'>\n",
            "RangeIndex: 41188 entries, 0 to 41187\n",
            "Data columns (total 62 columns):\n",
            " #   Column                         Non-Null Count  Dtype  \n",
            "---  ------                         --------------  -----  \n",
            " 0   age                            41188 non-null  int64  \n",
            " 1   duration                       41188 non-null  int64  \n",
            " 2   campaign                       41188 non-null  int64  \n",
            " 3   previous                       41188 non-null  int64  \n",
            " 4   emp.var.rate                   41188 non-null  float64\n",
            " 5   cons.price.idx                 41188 non-null  float64\n",
            " 6   cons.conf.idx                  41188 non-null  float64\n",
            " 7   euribor3m                      41188 non-null  float64\n",
            " 8   nr.employed                    41188 non-null  float64\n",
            " 9   job_admin.                     41188 non-null  uint8  \n",
            " 10  job_blue-collar                41188 non-null  uint8  \n",
            " 11  job_entrepreneur               41188 non-null  uint8  \n",
            " 12  job_housemaid                  41188 non-null  uint8  \n",
            " 13  job_management                 41188 non-null  uint8  \n",
            " 14  job_retired                    41188 non-null  uint8  \n",
            " 15  job_self-employed              41188 non-null  uint8  \n",
            " 16  job_services                   41188 non-null  uint8  \n",
            " 17  job_student                    41188 non-null  uint8  \n",
            " 18  job_technician                 41188 non-null  uint8  \n",
            " 19  job_unemployed                 41188 non-null  uint8  \n",
            " 20  job_unknown                    41188 non-null  uint8  \n",
            " 21  marital_divorced               41188 non-null  uint8  \n",
            " 22  marital_married                41188 non-null  uint8  \n",
            " 23  marital_single                 41188 non-null  uint8  \n",
            " 24  marital_unknown                41188 non-null  uint8  \n",
            " 25  education_basic.4y             41188 non-null  uint8  \n",
            " 26  education_basic.6y             41188 non-null  uint8  \n",
            " 27  education_basic.9y             41188 non-null  uint8  \n",
            " 28  education_high.school          41188 non-null  uint8  \n",
            " 29  education_illiterate           41188 non-null  uint8  \n",
            " 30  education_professional.course  41188 non-null  uint8  \n",
            " 31  education_university.degree    41188 non-null  uint8  \n",
            " 32  education_unknown              41188 non-null  uint8  \n",
            " 33  default_no                     41188 non-null  uint8  \n",
            " 34  default_unknown                41188 non-null  uint8  \n",
            " 35  default_yes                    41188 non-null  uint8  \n",
            " 36  housing_no                     41188 non-null  uint8  \n",
            " 37  housing_unknown                41188 non-null  uint8  \n",
            " 38  housing_yes                    41188 non-null  uint8  \n",
            " 39  loan_no                        41188 non-null  uint8  \n",
            " 40  loan_unknown                   41188 non-null  uint8  \n",
            " 41  loan_yes                       41188 non-null  uint8  \n",
            " 42  contact_cellular               41188 non-null  uint8  \n",
            " 43  contact_telephone              41188 non-null  uint8  \n",
            " 44  month_apr                      41188 non-null  uint8  \n",
            " 45  month_aug                      41188 non-null  uint8  \n",
            " 46  month_dec                      41188 non-null  uint8  \n",
            " 47  month_jul                      41188 non-null  uint8  \n",
            " 48  month_jun                      41188 non-null  uint8  \n",
            " 49  month_mar                      41188 non-null  uint8  \n",
            " 50  month_may                      41188 non-null  uint8  \n",
            " 51  month_nov                      41188 non-null  uint8  \n",
            " 52  month_oct                      41188 non-null  uint8  \n",
            " 53  month_sep                      41188 non-null  uint8  \n",
            " 54  day_of_week_fri                41188 non-null  uint8  \n",
            " 55  day_of_week_mon                41188 non-null  uint8  \n",
            " 56  day_of_week_thu                41188 non-null  uint8  \n",
            " 57  day_of_week_tue                41188 non-null  uint8  \n",
            " 58  day_of_week_wed                41188 non-null  uint8  \n",
            " 59  poutcome_failure               41188 non-null  uint8  \n",
            " 60  poutcome_nonexistent           41188 non-null  uint8  \n",
            " 61  poutcome_success               41188 non-null  uint8  \n",
            "dtypes: float64(5), int64(4), uint8(53)\n",
            "memory usage: 4.9 MB\n"
          ],
          "name": "stdout"
        }
      ]
    },
    {
      "cell_type": "code",
      "metadata": {
        "colab": {
          "base_uri": "https://localhost:8080/",
          "height": 969
        },
        "id": "ugyFBiRNBAZX",
        "outputId": "391a305e-b6af-4230-99a9-07e830031be2"
      },
      "source": [
        "sns.set(style=\"whitegrid\", font_scale=1)\n",
        "plt.figure(figsize=(15,15))\n",
        "plt.title('Pearson', fontsize=15)\n",
        "sns.heatmap(X.corr(),vmax = 0.7, square = True, cmap='GnBu',linecolor='b',annot=False,annot_kws={'size':9})"
      ],
      "execution_count": 15,
      "outputs": [
        {
          "output_type": "execute_result",
          "data": {
            "text/plain": [
              "<matplotlib.axes._subplots.AxesSubplot at 0x7fba7ba04550>"
            ]
          },
          "metadata": {
            "tags": []
          },
          "execution_count": 15
        },
        {
          "output_type": "display_data",
          "data": {
            "image/png": "[encoded data removed]",
            "text/plain": [
              "<Figure size 1080x1080 with 2 Axes>"
            ]
          },
          "metadata": {
            "tags": []
          }
        }
      ]
    },
    {
      "cell_type": "code",
      "metadata": {
        "colab": {
          "base_uri": "https://localhost:8080/"
        },
        "id": "TjJ95H7SB5qX",
        "outputId": "5ace2458-bf2c-49db-b3aa-54c022849207"
      },
      "source": [
        "y.value_counts()"
      ],
      "execution_count": 16,
      "outputs": [
        {
          "output_type": "execute_result",
          "data": {
            "text/plain": [
              "no     36548\n",
              "yes     4640\n",
              "Name: y, dtype: int64"
            ]
          },
          "metadata": {
            "tags": []
          },
          "execution_count": 16
        }
      ]
    },
    {
      "cell_type": "code",
      "metadata": {
        "id": "x154hfseHCtm"
      },
      "source": [
        "lenc = LabelEncoder()\n",
        "y = lenc.fit_transform(y)"
      ],
      "execution_count": 17,
      "outputs": []
    },
    {
      "cell_type": "markdown",
      "metadata": {
        "id": "0o5cNlOKF6Av"
      },
      "source": [
        "**Under Sampler**"
      ]
    },
    {
      "cell_type": "code",
      "metadata": {
        "colab": {
          "base_uri": "https://localhost:8080/"
        },
        "id": "-Uu8g6u4FdCf",
        "outputId": "69df5762-c0a8-4f9c-973e-8c9cc43668d3"
      },
      "source": [
        "rus = RandomUnderSampler(random_state=0)\n",
        "X_rus, y_rus = rus.fit_resample(X,y)\n",
        "pd.Series(y_rus).value_counts()"
      ],
      "execution_count": 18,
      "outputs": [
        {
          "output_type": "stream",
          "text": [
            "/usr/local/lib/python3.7/dist-packages/sklearn/utils/deprecation.py:87: FutureWarning: Function safe_indexing is deprecated; safe_indexing is deprecated in version 0.22 and will be removed in version 0.24.\n",
            "  warnings.warn(msg, category=FutureWarning)\n"
          ],
          "name": "stderr"
        },
        {
          "output_type": "execute_result",
          "data": {
            "text/plain": [
              "1    4640\n",
              "0    4640\n",
              "dtype: int64"
            ]
          },
          "metadata": {
            "tags": []
          },
          "execution_count": 18
        }
      ]
    },
    {
      "cell_type": "markdown",
      "metadata": {
        "id": "DMPgVUnjGGU_"
      },
      "source": [
        "**Over Sampler**"
      ]
    },
    {
      "cell_type": "code",
      "metadata": {
        "colab": {
          "base_uri": "https://localhost:8080/"
        },
        "id": "XrLinl6sF___",
        "outputId": "abb85683-31e2-4d6f-87a6-707831a35099"
      },
      "source": [
        "ros = RandomOverSampler(random_state=0)\n",
        "X_ros, y_ros = ros.fit_resample(X,y)\n",
        "pd.Series(y_ros).value_counts()"
      ],
      "execution_count": 19,
      "outputs": [
        {
          "output_type": "stream",
          "text": [
            "/usr/local/lib/python3.7/dist-packages/sklearn/utils/deprecation.py:87: FutureWarning: Function safe_indexing is deprecated; safe_indexing is deprecated in version 0.22 and will be removed in version 0.24.\n",
            "  warnings.warn(msg, category=FutureWarning)\n"
          ],
          "name": "stderr"
        },
        {
          "output_type": "execute_result",
          "data": {
            "text/plain": [
              "1    36548\n",
              "0    36548\n",
              "dtype: int64"
            ]
          },
          "metadata": {
            "tags": []
          },
          "execution_count": 19
        }
      ]
    },
    {
      "cell_type": "markdown",
      "metadata": {
        "id": "0wj3E03pGJUH"
      },
      "source": [
        "**SMOTE**"
      ]
    },
    {
      "cell_type": "code",
      "metadata": {
        "colab": {
          "base_uri": "https://localhost:8080/"
        },
        "id": "KMppuIW3GIPn",
        "outputId": "d77b13e7-cb54-4446-814c-ccc2dc23072f"
      },
      "source": [
        "sm = SMOTE(random_state=0)\n",
        "X_sm, y_sm = sm.fit_resample(X,y)\n",
        "pd.Series(y_sm).value_counts()"
      ],
      "execution_count": 20,
      "outputs": [
        {
          "output_type": "stream",
          "text": [
            "/usr/local/lib/python3.7/dist-packages/sklearn/utils/deprecation.py:87: FutureWarning: Function safe_indexing is deprecated; safe_indexing is deprecated in version 0.22 and will be removed in version 0.24.\n",
            "  warnings.warn(msg, category=FutureWarning)\n"
          ],
          "name": "stderr"
        },
        {
          "output_type": "execute_result",
          "data": {
            "text/plain": [
              "1    36548\n",
              "0    36548\n",
              "dtype: int64"
            ]
          },
          "metadata": {
            "tags": []
          },
          "execution_count": 20
        }
      ]
    },
    {
      "cell_type": "code",
      "metadata": {
        "colab": {
          "base_uri": "https://localhost:8080/"
        },
        "id": "tpv0xscIGx7H",
        "outputId": "0f77ca4e-72c5-4d15-c848-c92a5bafc6a0"
      },
      "source": [
        "y_sm"
      ],
      "execution_count": 21,
      "outputs": [
        {
          "output_type": "execute_result",
          "data": {
            "text/plain": [
              "array([0, 0, 0, ..., 1, 1, 1])"
            ]
          },
          "metadata": {
            "tags": []
          },
          "execution_count": 21
        }
      ]
    },
    {
      "cell_type": "markdown",
      "metadata": {
        "id": "ihm90yApH4cw"
      },
      "source": [
        "**FUNCIONES**\n",
        "*TrainTestSplit*\n",
        "*Escalado*\n",
        "*PCA*"
      ]
    },
    {
      "cell_type": "code",
      "metadata": {
        "id": "d1N3KsJ5H6Ke"
      },
      "source": [
        "def trainTestSplit(X,y):\n",
        "  X_train,X_test,y_train,y_test=train_test_split(X,y,test_size=0.3)\n",
        "  return X_train,X_test,y_train,y_test\n",
        "\n",
        "def escalado(X_train,X_test):\n",
        "  sc = StandardScaler()\n",
        "  sc.fit(X_train)\n",
        "  return sc.transform(X_train),sc.transform(X_test)\n",
        "\n",
        "def generadorPCA(n_components,X):\n",
        "  pca = PCA(n_components=n_components)\n",
        "  cp = pca.fit_transform(X)\n",
        "  return pd.DataFrame(data=cp)\n",
        "\n",
        "def model():\n",
        "  model = Sequential()\n",
        "  model.add(Dense(18,activation='relu'))\n",
        "  model.add(Dense(7,activation='relu'))\n",
        "  model.add(Dense(1,activation='sigmoid'))\n",
        "  model.compile(optimizer='adam',loss = 'binary_crossentropy', metrics =['accuracy'])\n",
        "  #binary_crossentropy / categorical_crossentropy\n",
        "  return model"
      ],
      "execution_count": 22,
      "outputs": []
    },
    {
      "cell_type": "markdown",
      "metadata": {
        "id": "PM6M77jnLy7W"
      },
      "source": [
        "sin escalado sin PCA sin balanceo "
      ]
    },
    {
      "cell_type": "code",
      "metadata": {
        "colab": {
          "base_uri": "https://localhost:8080/",
          "height": 438
        },
        "id": "-j32mMQ1ffl8",
        "outputId": "b020980f-8e24-4dd8-b2fe-dd2814c76c70"
      },
      "source": [
        "X"
      ],
      "execution_count": 23,
      "outputs": [
        {
          "output_type": "execute_result",
          "data": {
            "text/html": [
              "<div>\n",
              "<style scoped>\n",
              "    .dataframe tbody tr th:only-of-type {\n",
              "        vertical-align: middle;\n",
              "    }\n",
              "\n",
              "    .dataframe tbody tr th {\n",
              "        vertical-align: top;\n",
              "    }\n",
              "\n",
              "    .dataframe thead th {\n",
              "        text-align: right;\n",
              "    }\n",
              "</style>\n",
              "<table border=\"1\" class=\"dataframe\">\n",
              "  <thead>\n",
              "    <tr style=\"text-align: right;\">\n",
              "      <th></th>\n",
              "      <th>age</th>\n",
              "      <th>duration</th>\n",
              "      <th>campaign</th>\n",
              "      <th>previous</th>\n",
              "      <th>emp.var.rate</th>\n",
              "      <th>cons.price.idx</th>\n",
              "      <th>cons.conf.idx</th>\n",
              "      <th>euribor3m</th>\n",
              "      <th>nr.employed</th>\n",
              "      <th>job_admin.</th>\n",
              "      <th>job_blue-collar</th>\n",
              "      <th>job_entrepreneur</th>\n",
              "      <th>job_housemaid</th>\n",
              "      <th>job_management</th>\n",
              "      <th>job_retired</th>\n",
              "      <th>job_self-employed</th>\n",
              "      <th>job_services</th>\n",
              "      <th>job_student</th>\n",
              "      <th>job_technician</th>\n",
              "      <th>job_unemployed</th>\n",
              "      <th>job_unknown</th>\n",
              "      <th>marital_divorced</th>\n",
              "      <th>marital_married</th>\n",
              "      <th>marital_single</th>\n",
              "      <th>marital_unknown</th>\n",
              "      <th>education_basic.4y</th>\n",
              "      <th>education_basic.6y</th>\n",
              "      <th>education_basic.9y</th>\n",
              "      <th>education_high.school</th>\n",
              "      <th>education_illiterate</th>\n",
              "      <th>education_professional.course</th>\n",
              "      <th>education_university.degree</th>\n",
              "      <th>education_unknown</th>\n",
              "      <th>default_no</th>\n",
              "      <th>default_unknown</th>\n",
              "      <th>default_yes</th>\n",
              "      <th>housing_no</th>\n",
              "      <th>housing_unknown</th>\n",
              "      <th>housing_yes</th>\n",
              "      <th>loan_no</th>\n",
              "      <th>loan_unknown</th>\n",
              "      <th>loan_yes</th>\n",
              "      <th>contact_cellular</th>\n",
              "      <th>contact_telephone</th>\n",
              "      <th>month_apr</th>\n",
              "      <th>month_aug</th>\n",
              "      <th>month_dec</th>\n",
              "      <th>month_jul</th>\n",
              "      <th>month_jun</th>\n",
              "      <th>month_mar</th>\n",
              "      <th>month_may</th>\n",
              "      <th>month_nov</th>\n",
              "      <th>month_oct</th>\n",
              "      <th>month_sep</th>\n",
              "      <th>day_of_week_fri</th>\n",
              "      <th>day_of_week_mon</th>\n",
              "      <th>day_of_week_thu</th>\n",
              "      <th>day_of_week_tue</th>\n",
              "      <th>day_of_week_wed</th>\n",
              "      <th>poutcome_failure</th>\n",
              "      <th>poutcome_nonexistent</th>\n",
              "      <th>poutcome_success</th>\n",
              "    </tr>\n",
              "  </thead>\n",
              "  <tbody>\n",
              "    <tr>\n",
              "      <th>0</th>\n",
              "      <td>56</td>\n",
              "      <td>261</td>\n",
              "      <td>1</td>\n",
              "      <td>0</td>\n",
              "      <td>1.1</td>\n",
              "      <td>93.994</td>\n",
              "      <td>-36.4</td>\n",
              "      <td>4.857</td>\n",
              "      <td>5191.0</td>\n",
              "      <td>0</td>\n",
              "      <td>0</td>\n",
              "      <td>0</td>\n",
              "      <td>1</td>\n",
              "      <td>0</td>\n",
              "      <td>0</td>\n",
              "      <td>0</td>\n",
              "      <td>0</td>\n",
              "      <td>0</td>\n",
              "      <td>0</td>\n",
              "      <td>0</td>\n",
              "      <td>0</td>\n",
              "      <td>0</td>\n",
              "      <td>1</td>\n",
              "      <td>0</td>\n",
              "      <td>0</td>\n",
              "      <td>1</td>\n",
              "      <td>0</td>\n",
              "      <td>0</td>\n",
              "      <td>0</td>\n",
              "      <td>0</td>\n",
              "      <td>0</td>\n",
              "      <td>0</td>\n",
              "      <td>0</td>\n",
              "      <td>1</td>\n",
              "      <td>0</td>\n",
              "      <td>0</td>\n",
              "      <td>1</td>\n",
              "      <td>0</td>\n",
              "      <td>0</td>\n",
              "      <td>1</td>\n",
              "      <td>0</td>\n",
              "      <td>0</td>\n",
              "      <td>0</td>\n",
              "      <td>1</td>\n",
              "      <td>0</td>\n",
              "      <td>0</td>\n",
              "      <td>0</td>\n",
              "      <td>0</td>\n",
              "      <td>0</td>\n",
              "      <td>0</td>\n",
              "      <td>1</td>\n",
              "      <td>0</td>\n",
              "      <td>0</td>\n",
              "      <td>0</td>\n",
              "      <td>0</td>\n",
              "      <td>1</td>\n",
              "      <td>0</td>\n",
              "      <td>0</td>\n",
              "      <td>0</td>\n",
              "      <td>0</td>\n",
              "      <td>1</td>\n",
              "      <td>0</td>\n",
              "    </tr>\n",
              "    <tr>\n",
              "      <th>1</th>\n",
              "      <td>57</td>\n",
              "      <td>149</td>\n",
              "      <td>1</td>\n",
              "      <td>0</td>\n",
              "      <td>1.1</td>\n",
              "      <td>93.994</td>\n",
              "      <td>-36.4</td>\n",
              "      <td>4.857</td>\n",
              "      <td>5191.0</td>\n",
              "      <td>0</td>\n",
              "      <td>0</td>\n",
              "      <td>0</td>\n",
              "      <td>0</td>\n",
              "      <td>0</td>\n",
              "      <td>0</td>\n",
              "      <td>0</td>\n",
              "      <td>1</td>\n",
              "      <td>0</td>\n",
              "      <td>0</td>\n",
              "      <td>0</td>\n",
              "      <td>0</td>\n",
              "      <td>0</td>\n",
              "      <td>1</td>\n",
              "      <td>0</td>\n",
              "      <td>0</td>\n",
              "      <td>0</td>\n",
              "      <td>0</td>\n",
              "      <td>0</td>\n",
              "      <td>1</td>\n",
              "      <td>0</td>\n",
              "      <td>0</td>\n",
              "      <td>0</td>\n",
              "      <td>0</td>\n",
              "      <td>0</td>\n",
              "      <td>1</td>\n",
              "      <td>0</td>\n",
              "      <td>1</td>\n",
              "      <td>0</td>\n",
              "      <td>0</td>\n",
              "      <td>1</td>\n",
              "      <td>0</td>\n",
              "      <td>0</td>\n",
              "      <td>0</td>\n",
              "      <td>1</td>\n",
              "      <td>0</td>\n",
              "      <td>0</td>\n",
              "      <td>0</td>\n",
              "      <td>0</td>\n",
              "      <td>0</td>\n",
              "      <td>0</td>\n",
              "      <td>1</td>\n",
              "      <td>0</td>\n",
              "      <td>0</td>\n",
              "      <td>0</td>\n",
              "      <td>0</td>\n",
              "      <td>1</td>\n",
              "      <td>0</td>\n",
              "      <td>0</td>\n",
              "      <td>0</td>\n",
              "      <td>0</td>\n",
              "      <td>1</td>\n",
              "      <td>0</td>\n",
              "    </tr>\n",
              "    <tr>\n",
              "      <th>2</th>\n",
              "      <td>37</td>\n",
              "      <td>226</td>\n",
              "      <td>1</td>\n",
              "      <td>0</td>\n",
              "      <td>1.1</td>\n",
              "      <td>93.994</td>\n",
              "      <td>-36.4</td>\n",
              "      <td>4.857</td>\n",
              "      <td>5191.0</td>\n",
              "      <td>0</td>\n",
              "      <td>0</td>\n",
              "      <td>0</td>\n",
              "      <td>0</td>\n",
              "      <td>0</td>\n",
              "      <td>0</td>\n",
              "      <td>0</td>\n",
              "      <td>1</td>\n",
              "      <td>0</td>\n",
              "      <td>0</td>\n",
              "      <td>0</td>\n",
              "      <td>0</td>\n",
              "      <td>0</td>\n",
              "      <td>1</td>\n",
              "      <td>0</td>\n",
              "      <td>0</td>\n",
              "      <td>0</td>\n",
              "      <td>0</td>\n",
              "      <td>0</td>\n",
              "      <td>1</td>\n",
              "      <td>0</td>\n",
              "      <td>0</td>\n",
              "      <td>0</td>\n",
              "      <td>0</td>\n",
              "      <td>1</td>\n",
              "      <td>0</td>\n",
              "      <td>0</td>\n",
              "      <td>0</td>\n",
              "      <td>0</td>\n",
              "      <td>1</td>\n",
              "      <td>1</td>\n",
              "      <td>0</td>\n",
              "      <td>0</td>\n",
              "      <td>0</td>\n",
              "      <td>1</td>\n",
              "      <td>0</td>\n",
              "      <td>0</td>\n",
              "      <td>0</td>\n",
              "      <td>0</td>\n",
              "      <td>0</td>\n",
              "      <td>0</td>\n",
              "      <td>1</td>\n",
              "      <td>0</td>\n",
              "      <td>0</td>\n",
              "      <td>0</td>\n",
              "      <td>0</td>\n",
              "      <td>1</td>\n",
              "      <td>0</td>\n",
              "      <td>0</td>\n",
              "      <td>0</td>\n",
              "      <td>0</td>\n",
              "      <td>1</td>\n",
              "      <td>0</td>\n",
              "    </tr>\n",
              "    <tr>\n",
              "      <th>3</th>\n",
              "      <td>40</td>\n",
              "      <td>151</td>\n",
              "      <td>1</td>\n",
              "      <td>0</td>\n",
              "      <td>1.1</td>\n",
              "      <td>93.994</td>\n",
              "      <td>-36.4</td>\n",
              "      <td>4.857</td>\n",
              "      <td>5191.0</td>\n",
              "      <td>1</td>\n",
              "      <td>0</td>\n",
              "      <td>0</td>\n",
              "      <td>0</td>\n",
              "      <td>0</td>\n",
              "      <td>0</td>\n",
              "      <td>0</td>\n",
              "      <td>0</td>\n",
              "      <td>0</td>\n",
              "      <td>0</td>\n",
              "      <td>0</td>\n",
              "      <td>0</td>\n",
              "      <td>0</td>\n",
              "      <td>1</td>\n",
              "      <td>0</td>\n",
              "      <td>0</td>\n",
              "      <td>0</td>\n",
              "      <td>1</td>\n",
              "      <td>0</td>\n",
              "      <td>0</td>\n",
              "      <td>0</td>\n",
              "      <td>0</td>\n",
              "      <td>0</td>\n",
              "      <td>0</td>\n",
              "      <td>1</td>\n",
              "      <td>0</td>\n",
              "      <td>0</td>\n",
              "      <td>1</td>\n",
              "      <td>0</td>\n",
              "      <td>0</td>\n",
              "      <td>1</td>\n",
              "      <td>0</td>\n",
              "      <td>0</td>\n",
              "      <td>0</td>\n",
              "      <td>1</td>\n",
              "      <td>0</td>\n",
              "      <td>0</td>\n",
              "      <td>0</td>\n",
              "      <td>0</td>\n",
              "      <td>0</td>\n",
              "      <td>0</td>\n",
              "      <td>1</td>\n",
              "      <td>0</td>\n",
              "      <td>0</td>\n",
              "      <td>0</td>\n",
              "      <td>0</td>\n",
              "      <td>1</td>\n",
              "      <td>0</td>\n",
              "      <td>0</td>\n",
              "      <td>0</td>\n",
              "      <td>0</td>\n",
              "      <td>1</td>\n",
              "      <td>0</td>\n",
              "    </tr>\n",
              "    <tr>\n",
              "      <th>4</th>\n",
              "      <td>56</td>\n",
              "      <td>307</td>\n",
              "      <td>1</td>\n",
              "      <td>0</td>\n",
              "      <td>1.1</td>\n",
              "      <td>93.994</td>\n",
              "      <td>-36.4</td>\n",
              "      <td>4.857</td>\n",
              "      <td>5191.0</td>\n",
              "      <td>0</td>\n",
              "      <td>0</td>\n",
              "      <td>0</td>\n",
              "      <td>0</td>\n",
              "      <td>0</td>\n",
              "      <td>0</td>\n",
              "      <td>0</td>\n",
              "      <td>1</td>\n",
              "      <td>0</td>\n",
              "      <td>0</td>\n",
              "      <td>0</td>\n",
              "      <td>0</td>\n",
              "      <td>0</td>\n",
              "      <td>1</td>\n",
              "      <td>0</td>\n",
              "      <td>0</td>\n",
              "      <td>0</td>\n",
              "      <td>0</td>\n",
              "      <td>0</td>\n",
              "      <td>1</td>\n",
              "      <td>0</td>\n",
              "      <td>0</td>\n",
              "      <td>0</td>\n",
              "      <td>0</td>\n",
              "      <td>1</td>\n",
              "      <td>0</td>\n",
              "      <td>0</td>\n",
              "      <td>1</td>\n",
              "      <td>0</td>\n",
              "      <td>0</td>\n",
              "      <td>0</td>\n",
              "      <td>0</td>\n",
              "      <td>1</td>\n",
              "      <td>0</td>\n",
              "      <td>1</td>\n",
              "      <td>0</td>\n",
              "      <td>0</td>\n",
              "      <td>0</td>\n",
              "      <td>0</td>\n",
              "      <td>0</td>\n",
              "      <td>0</td>\n",
              "      <td>1</td>\n",
              "      <td>0</td>\n",
              "      <td>0</td>\n",
              "      <td>0</td>\n",
              "      <td>0</td>\n",
              "      <td>1</td>\n",
              "      <td>0</td>\n",
              "      <td>0</td>\n",
              "      <td>0</td>\n",
              "      <td>0</td>\n",
              "      <td>1</td>\n",
              "      <td>0</td>\n",
              "    </tr>\n",
              "    <tr>\n",
              "      <th>...</th>\n",
              "      <td>...</td>\n",
              "      <td>...</td>\n",
              "      <td>...</td>\n",
              "      <td>...</td>\n",
              "      <td>...</td>\n",
              "      <td>...</td>\n",
              "      <td>...</td>\n",
              "      <td>...</td>\n",
              "      <td>...</td>\n",
              "      <td>...</td>\n",
              "      <td>...</td>\n",
              "      <td>...</td>\n",
              "      <td>...</td>\n",
              "      <td>...</td>\n",
              "      <td>...</td>\n",
              "      <td>...</td>\n",
              "      <td>...</td>\n",
              "      <td>...</td>\n",
              "      <td>...</td>\n",
              "      <td>...</td>\n",
              "      <td>...</td>\n",
              "      <td>...</td>\n",
              "      <td>...</td>\n",
              "      <td>...</td>\n",
              "      <td>...</td>\n",
              "      <td>...</td>\n",
              "      <td>...</td>\n",
              "      <td>...</td>\n",
              "      <td>...</td>\n",
              "      <td>...</td>\n",
              "      <td>...</td>\n",
              "      <td>...</td>\n",
              "      <td>...</td>\n",
              "      <td>...</td>\n",
              "      <td>...</td>\n",
              "      <td>...</td>\n",
              "      <td>...</td>\n",
              "      <td>...</td>\n",
              "      <td>...</td>\n",
              "      <td>...</td>\n",
              "      <td>...</td>\n",
              "      <td>...</td>\n",
              "      <td>...</td>\n",
              "      <td>...</td>\n",
              "      <td>...</td>\n",
              "      <td>...</td>\n",
              "      <td>...</td>\n",
              "      <td>...</td>\n",
              "      <td>...</td>\n",
              "      <td>...</td>\n",
              "      <td>...</td>\n",
              "      <td>...</td>\n",
              "      <td>...</td>\n",
              "      <td>...</td>\n",
              "      <td>...</td>\n",
              "      <td>...</td>\n",
              "      <td>...</td>\n",
              "      <td>...</td>\n",
              "      <td>...</td>\n",
              "      <td>...</td>\n",
              "      <td>...</td>\n",
              "      <td>...</td>\n",
              "    </tr>\n",
              "    <tr>\n",
              "      <th>41183</th>\n",
              "      <td>73</td>\n",
              "      <td>334</td>\n",
              "      <td>1</td>\n",
              "      <td>0</td>\n",
              "      <td>-1.1</td>\n",
              "      <td>94.767</td>\n",
              "      <td>-50.8</td>\n",
              "      <td>1.028</td>\n",
              "      <td>4963.6</td>\n",
              "      <td>0</td>\n",
              "      <td>0</td>\n",
              "      <td>0</td>\n",
              "      <td>0</td>\n",
              "      <td>0</td>\n",
              "      <td>1</td>\n",
              "      <td>0</td>\n",
              "      <td>0</td>\n",
              "      <td>0</td>\n",
              "      <td>0</td>\n",
              "      <td>0</td>\n",
              "      <td>0</td>\n",
              "      <td>0</td>\n",
              "      <td>1</td>\n",
              "      <td>0</td>\n",
              "      <td>0</td>\n",
              "      <td>0</td>\n",
              "      <td>0</td>\n",
              "      <td>0</td>\n",
              "      <td>0</td>\n",
              "      <td>0</td>\n",
              "      <td>1</td>\n",
              "      <td>0</td>\n",
              "      <td>0</td>\n",
              "      <td>1</td>\n",
              "      <td>0</td>\n",
              "      <td>0</td>\n",
              "      <td>0</td>\n",
              "      <td>0</td>\n",
              "      <td>1</td>\n",
              "      <td>1</td>\n",
              "      <td>0</td>\n",
              "      <td>0</td>\n",
              "      <td>1</td>\n",
              "      <td>0</td>\n",
              "      <td>0</td>\n",
              "      <td>0</td>\n",
              "      <td>0</td>\n",
              "      <td>0</td>\n",
              "      <td>0</td>\n",
              "      <td>0</td>\n",
              "      <td>0</td>\n",
              "      <td>1</td>\n",
              "      <td>0</td>\n",
              "      <td>0</td>\n",
              "      <td>1</td>\n",
              "      <td>0</td>\n",
              "      <td>0</td>\n",
              "      <td>0</td>\n",
              "      <td>0</td>\n",
              "      <td>0</td>\n",
              "      <td>1</td>\n",
              "      <td>0</td>\n",
              "    </tr>\n",
              "    <tr>\n",
              "      <th>41184</th>\n",
              "      <td>46</td>\n",
              "      <td>383</td>\n",
              "      <td>1</td>\n",
              "      <td>0</td>\n",
              "      <td>-1.1</td>\n",
              "      <td>94.767</td>\n",
              "      <td>-50.8</td>\n",
              "      <td>1.028</td>\n",
              "      <td>4963.6</td>\n",
              "      <td>0</td>\n",
              "      <td>1</td>\n",
              "      <td>0</td>\n",
              "      <td>0</td>\n",
              "      <td>0</td>\n",
              "      <td>0</td>\n",
              "      <td>0</td>\n",
              "      <td>0</td>\n",
              "      <td>0</td>\n",
              "      <td>0</td>\n",
              "      <td>0</td>\n",
              "      <td>0</td>\n",
              "      <td>0</td>\n",
              "      <td>1</td>\n",
              "      <td>0</td>\n",
              "      <td>0</td>\n",
              "      <td>0</td>\n",
              "      <td>0</td>\n",
              "      <td>0</td>\n",
              "      <td>0</td>\n",
              "      <td>0</td>\n",
              "      <td>1</td>\n",
              "      <td>0</td>\n",
              "      <td>0</td>\n",
              "      <td>1</td>\n",
              "      <td>0</td>\n",
              "      <td>0</td>\n",
              "      <td>1</td>\n",
              "      <td>0</td>\n",
              "      <td>0</td>\n",
              "      <td>1</td>\n",
              "      <td>0</td>\n",
              "      <td>0</td>\n",
              "      <td>1</td>\n",
              "      <td>0</td>\n",
              "      <td>0</td>\n",
              "      <td>0</td>\n",
              "      <td>0</td>\n",
              "      <td>0</td>\n",
              "      <td>0</td>\n",
              "      <td>0</td>\n",
              "      <td>0</td>\n",
              "      <td>1</td>\n",
              "      <td>0</td>\n",
              "      <td>0</td>\n",
              "      <td>1</td>\n",
              "      <td>0</td>\n",
              "      <td>0</td>\n",
              "      <td>0</td>\n",
              "      <td>0</td>\n",
              "      <td>0</td>\n",
              "      <td>1</td>\n",
              "      <td>0</td>\n",
              "    </tr>\n",
              "    <tr>\n",
              "      <th>41185</th>\n",
              "      <td>56</td>\n",
              "      <td>189</td>\n",
              "      <td>2</td>\n",
              "      <td>0</td>\n",
              "      <td>-1.1</td>\n",
              "      <td>94.767</td>\n",
              "      <td>-50.8</td>\n",
              "      <td>1.028</td>\n",
              "      <td>4963.6</td>\n",
              "      <td>0</td>\n",
              "      <td>0</td>\n",
              "      <td>0</td>\n",
              "      <td>0</td>\n",
              "      <td>0</td>\n",
              "      <td>1</td>\n",
              "      <td>0</td>\n",
              "      <td>0</td>\n",
              "      <td>0</td>\n",
              "      <td>0</td>\n",
              "      <td>0</td>\n",
              "      <td>0</td>\n",
              "      <td>0</td>\n",
              "      <td>1</td>\n",
              "      <td>0</td>\n",
              "      <td>0</td>\n",
              "      <td>0</td>\n",
              "      <td>0</td>\n",
              "      <td>0</td>\n",
              "      <td>0</td>\n",
              "      <td>0</td>\n",
              "      <td>0</td>\n",
              "      <td>1</td>\n",
              "      <td>0</td>\n",
              "      <td>1</td>\n",
              "      <td>0</td>\n",
              "      <td>0</td>\n",
              "      <td>0</td>\n",
              "      <td>0</td>\n",
              "      <td>1</td>\n",
              "      <td>1</td>\n",
              "      <td>0</td>\n",
              "      <td>0</td>\n",
              "      <td>1</td>\n",
              "      <td>0</td>\n",
              "      <td>0</td>\n",
              "      <td>0</td>\n",
              "      <td>0</td>\n",
              "      <td>0</td>\n",
              "      <td>0</td>\n",
              "      <td>0</td>\n",
              "      <td>0</td>\n",
              "      <td>1</td>\n",
              "      <td>0</td>\n",
              "      <td>0</td>\n",
              "      <td>1</td>\n",
              "      <td>0</td>\n",
              "      <td>0</td>\n",
              "      <td>0</td>\n",
              "      <td>0</td>\n",
              "      <td>0</td>\n",
              "      <td>1</td>\n",
              "      <td>0</td>\n",
              "    </tr>\n",
              "    <tr>\n",
              "      <th>41186</th>\n",
              "      <td>44</td>\n",
              "      <td>442</td>\n",
              "      <td>1</td>\n",
              "      <td>0</td>\n",
              "      <td>-1.1</td>\n",
              "      <td>94.767</td>\n",
              "      <td>-50.8</td>\n",
              "      <td>1.028</td>\n",
              "      <td>4963.6</td>\n",
              "      <td>0</td>\n",
              "      <td>0</td>\n",
              "      <td>0</td>\n",
              "      <td>0</td>\n",
              "      <td>0</td>\n",
              "      <td>0</td>\n",
              "      <td>0</td>\n",
              "      <td>0</td>\n",
              "      <td>0</td>\n",
              "      <td>1</td>\n",
              "      <td>0</td>\n",
              "      <td>0</td>\n",
              "      <td>0</td>\n",
              "      <td>1</td>\n",
              "      <td>0</td>\n",
              "      <td>0</td>\n",
              "      <td>0</td>\n",
              "      <td>0</td>\n",
              "      <td>0</td>\n",
              "      <td>0</td>\n",
              "      <td>0</td>\n",
              "      <td>1</td>\n",
              "      <td>0</td>\n",
              "      <td>0</td>\n",
              "      <td>1</td>\n",
              "      <td>0</td>\n",
              "      <td>0</td>\n",
              "      <td>1</td>\n",
              "      <td>0</td>\n",
              "      <td>0</td>\n",
              "      <td>1</td>\n",
              "      <td>0</td>\n",
              "      <td>0</td>\n",
              "      <td>1</td>\n",
              "      <td>0</td>\n",
              "      <td>0</td>\n",
              "      <td>0</td>\n",
              "      <td>0</td>\n",
              "      <td>0</td>\n",
              "      <td>0</td>\n",
              "      <td>0</td>\n",
              "      <td>0</td>\n",
              "      <td>1</td>\n",
              "      <td>0</td>\n",
              "      <td>0</td>\n",
              "      <td>1</td>\n",
              "      <td>0</td>\n",
              "      <td>0</td>\n",
              "      <td>0</td>\n",
              "      <td>0</td>\n",
              "      <td>0</td>\n",
              "      <td>1</td>\n",
              "      <td>0</td>\n",
              "    </tr>\n",
              "    <tr>\n",
              "      <th>41187</th>\n",
              "      <td>74</td>\n",
              "      <td>239</td>\n",
              "      <td>3</td>\n",
              "      <td>1</td>\n",
              "      <td>-1.1</td>\n",
              "      <td>94.767</td>\n",
              "      <td>-50.8</td>\n",
              "      <td>1.028</td>\n",
              "      <td>4963.6</td>\n",
              "      <td>0</td>\n",
              "      <td>0</td>\n",
              "      <td>0</td>\n",
              "      <td>0</td>\n",
              "      <td>0</td>\n",
              "      <td>1</td>\n",
              "      <td>0</td>\n",
              "      <td>0</td>\n",
              "      <td>0</td>\n",
              "      <td>0</td>\n",
              "      <td>0</td>\n",
              "      <td>0</td>\n",
              "      <td>0</td>\n",
              "      <td>1</td>\n",
              "      <td>0</td>\n",
              "      <td>0</td>\n",
              "      <td>0</td>\n",
              "      <td>0</td>\n",
              "      <td>0</td>\n",
              "      <td>0</td>\n",
              "      <td>0</td>\n",
              "      <td>1</td>\n",
              "      <td>0</td>\n",
              "      <td>0</td>\n",
              "      <td>1</td>\n",
              "      <td>0</td>\n",
              "      <td>0</td>\n",
              "      <td>0</td>\n",
              "      <td>0</td>\n",
              "      <td>1</td>\n",
              "      <td>1</td>\n",
              "      <td>0</td>\n",
              "      <td>0</td>\n",
              "      <td>1</td>\n",
              "      <td>0</td>\n",
              "      <td>0</td>\n",
              "      <td>0</td>\n",
              "      <td>0</td>\n",
              "      <td>0</td>\n",
              "      <td>0</td>\n",
              "      <td>0</td>\n",
              "      <td>0</td>\n",
              "      <td>1</td>\n",
              "      <td>0</td>\n",
              "      <td>0</td>\n",
              "      <td>1</td>\n",
              "      <td>0</td>\n",
              "      <td>0</td>\n",
              "      <td>0</td>\n",
              "      <td>0</td>\n",
              "      <td>1</td>\n",
              "      <td>0</td>\n",
              "      <td>0</td>\n",
              "    </tr>\n",
              "  </tbody>\n",
              "</table>\n",
              "<p>41188 rows × 62 columns</p>\n",
              "</div>"
            ],
            "text/plain": [
              "       age  duration  ...  poutcome_nonexistent  poutcome_success\n",
              "0       56       261  ...                     1                 0\n",
              "1       57       149  ...                     1                 0\n",
              "2       37       226  ...                     1                 0\n",
              "3       40       151  ...                     1                 0\n",
              "4       56       307  ...                     1                 0\n",
              "...    ...       ...  ...                   ...               ...\n",
              "41183   73       334  ...                     1                 0\n",
              "41184   46       383  ...                     1                 0\n",
              "41185   56       189  ...                     1                 0\n",
              "41186   44       442  ...                     1                 0\n",
              "41187   74       239  ...                     0                 0\n",
              "\n",
              "[41188 rows x 62 columns]"
            ]
          },
          "metadata": {
            "tags": []
          },
          "execution_count": 23
        }
      ]
    },
    {
      "cell_type": "code",
      "metadata": {
        "colab": {
          "base_uri": "https://localhost:8080/"
        },
        "id": "W8Oq6D7-fh5U",
        "outputId": "35bb858b-0e2d-4979-f336-ccba5500f4cd"
      },
      "source": [
        "y"
      ],
      "execution_count": 24,
      "outputs": [
        {
          "output_type": "execute_result",
          "data": {
            "text/plain": [
              "array([0, 0, 0, ..., 0, 1, 0])"
            ]
          },
          "metadata": {
            "tags": []
          },
          "execution_count": 24
        }
      ]
    },
    {
      "cell_type": "code",
      "metadata": {
        "id": "F5g6iE4hfCId"
      },
      "source": [
        "X_train,X_test,y_train,y_test=train_test_split(X,y)"
      ],
      "execution_count": 25,
      "outputs": []
    },
    {
      "cell_type": "code",
      "metadata": {
        "id": "8oXvnRUOfy5t"
      },
      "source": [
        "model_sinPCA_sinBalanceo = model()"
      ],
      "execution_count": 26,
      "outputs": []
    },
    {
      "cell_type": "code",
      "metadata": {
        "colab": {
          "base_uri": "https://localhost:8080/"
        },
        "id": "J2IPK7Z3g4F8",
        "outputId": "df741f53-00d9-4637-8cc7-6788ef01beb3"
      },
      "source": [
        "model_sinPCA_sinBalanceo.fit(x=X_train,y=y_train,validation_data=(X_test,y_test),batch_size=200,epochs=30,verbose=1)"
      ],
      "execution_count": 27,
      "outputs": [
        {
          "output_type": "stream",
          "text": [
            "Epoch 1/30\n",
            "155/155 [==============================] - 2s 4ms/step - loss: 23.1980 - accuracy: 0.6089 - val_loss: 0.6798 - val_accuracy: 0.8865\n",
            "Epoch 2/30\n",
            "155/155 [==============================] - 0s 3ms/step - loss: 0.6539 - accuracy: 0.8881 - val_loss: 0.6230 - val_accuracy: 0.8856\n",
            "Epoch 3/30\n",
            "155/155 [==============================] - 0s 2ms/step - loss: 0.6051 - accuracy: 0.8878 - val_loss: 0.5800 - val_accuracy: 0.8859\n",
            "Epoch 4/30\n",
            "155/155 [==============================] - 0s 2ms/step - loss: 0.5653 - accuracy: 0.8878 - val_loss: 0.5473 - val_accuracy: 0.8858\n",
            "Epoch 5/30\n",
            "155/155 [==============================] - 0s 3ms/step - loss: 0.5328 - accuracy: 0.8878 - val_loss: 0.5180 - val_accuracy: 0.8858\n",
            "Epoch 6/30\n",
            "155/155 [==============================] - 0s 2ms/step - loss: 0.5048 - accuracy: 0.8878 - val_loss: 0.4922 - val_accuracy: 0.8858\n",
            "Epoch 7/30\n",
            "155/155 [==============================] - 0s 2ms/step - loss: 0.4799 - accuracy: 0.8878 - val_loss: 0.4698 - val_accuracy: 0.8858\n",
            "Epoch 8/30\n",
            "155/155 [==============================] - 0s 2ms/step - loss: 0.4583 - accuracy: 0.8879 - val_loss: 0.4504 - val_accuracy: 0.8858\n",
            "Epoch 9/30\n",
            "155/155 [==============================] - 0s 2ms/step - loss: 0.4402 - accuracy: 0.8879 - val_loss: 0.4340 - val_accuracy: 0.8858\n",
            "Epoch 10/30\n",
            "155/155 [==============================] - 0s 3ms/step - loss: 0.4248 - accuracy: 0.8879 - val_loss: 0.4200 - val_accuracy: 0.8858\n",
            "Epoch 11/30\n",
            "155/155 [==============================] - 0s 2ms/step - loss: 0.4117 - accuracy: 0.8879 - val_loss: 0.4081 - val_accuracy: 0.8858\n",
            "Epoch 12/30\n",
            "155/155 [==============================] - 0s 2ms/step - loss: 0.4006 - accuracy: 0.8879 - val_loss: 0.3981 - val_accuracy: 0.8858\n",
            "Epoch 13/30\n",
            "155/155 [==============================] - 0s 2ms/step - loss: 0.3913 - accuracy: 0.8879 - val_loss: 0.3898 - val_accuracy: 0.8858\n",
            "Epoch 14/30\n",
            "155/155 [==============================] - 0s 2ms/step - loss: 0.3835 - accuracy: 0.8879 - val_loss: 0.3828 - val_accuracy: 0.8858\n",
            "Epoch 15/30\n",
            "155/155 [==============================] - 0s 3ms/step - loss: 0.3770 - accuracy: 0.8879 - val_loss: 0.3771 - val_accuracy: 0.8858\n",
            "Epoch 16/30\n",
            "155/155 [==============================] - 0s 3ms/step - loss: 0.3716 - accuracy: 0.8879 - val_loss: 0.3724 - val_accuracy: 0.8858\n",
            "Epoch 17/30\n",
            "155/155 [==============================] - 0s 2ms/step - loss: 0.3672 - accuracy: 0.8879 - val_loss: 0.3685 - val_accuracy: 0.8858\n",
            "Epoch 18/30\n",
            "155/155 [==============================] - 0s 3ms/step - loss: 0.3636 - accuracy: 0.8879 - val_loss: 0.3654 - val_accuracy: 0.8858\n",
            "Epoch 19/30\n",
            "155/155 [==============================] - 0s 2ms/step - loss: 0.3607 - accuracy: 0.8879 - val_loss: 0.3630 - val_accuracy: 0.8858\n",
            "Epoch 20/30\n",
            "155/155 [==============================] - 0s 3ms/step - loss: 0.3584 - accuracy: 0.8879 - val_loss: 0.3610 - val_accuracy: 0.8858\n",
            "Epoch 21/30\n",
            "155/155 [==============================] - 0s 2ms/step - loss: 0.3565 - accuracy: 0.8879 - val_loss: 0.3594 - val_accuracy: 0.8858\n",
            "Epoch 22/30\n",
            "155/155 [==============================] - 0s 2ms/step - loss: 0.3551 - accuracy: 0.8879 - val_loss: 0.3582 - val_accuracy: 0.8858\n",
            "Epoch 23/30\n",
            "155/155 [==============================] - 0s 2ms/step - loss: 0.3540 - accuracy: 0.8879 - val_loss: 0.3573 - val_accuracy: 0.8858\n",
            "Epoch 24/30\n",
            "155/155 [==============================] - 0s 2ms/step - loss: 0.3531 - accuracy: 0.8879 - val_loss: 0.3567 - val_accuracy: 0.8858\n",
            "Epoch 25/30\n",
            "155/155 [==============================] - 0s 2ms/step - loss: 0.3525 - accuracy: 0.8879 - val_loss: 0.3562 - val_accuracy: 0.8858\n",
            "Epoch 26/30\n",
            "155/155 [==============================] - 0s 2ms/step - loss: 0.3520 - accuracy: 0.8879 - val_loss: 0.3558 - val_accuracy: 0.8858\n",
            "Epoch 27/30\n",
            "155/155 [==============================] - 0s 2ms/step - loss: 0.3517 - accuracy: 0.8879 - val_loss: 0.3556 - val_accuracy: 0.8858\n",
            "Epoch 28/30\n",
            "155/155 [==============================] - 0s 3ms/step - loss: 0.3514 - accuracy: 0.8879 - val_loss: 0.3554 - val_accuracy: 0.8858\n",
            "Epoch 29/30\n",
            "155/155 [==============================] - 0s 2ms/step - loss: 0.3513 - accuracy: 0.8879 - val_loss: 0.3553 - val_accuracy: 0.8858\n",
            "Epoch 30/30\n",
            "155/155 [==============================] - 0s 2ms/step - loss: 0.3511 - accuracy: 0.8879 - val_loss: 0.3553 - val_accuracy: 0.8858\n"
          ],
          "name": "stdout"
        },
        {
          "output_type": "execute_result",
          "data": {
            "text/plain": [
              "<tensorflow.python.keras.callbacks.History at 0x7fba6d820610>"
            ]
          },
          "metadata": {
            "tags": []
          },
          "execution_count": 27
        }
      ]
    },
    {
      "cell_type": "code",
      "metadata": {
        "colab": {
          "base_uri": "https://localhost:8080/",
          "height": 322
        },
        "id": "hdP_-U8IhRoF",
        "outputId": "210788e6-72dd-4aca-a006-0fececb67922"
      },
      "source": [
        "loss_sinNada = pd.DataFrame(model_sinPCA_sinBalanceo.history.history)\n",
        "plt.figure(figsize=(15,5))\n",
        "sns.lineplot(data=loss_sinNada,lw=3)\n",
        "sns.despine()"
      ],
      "execution_count": 28,
      "outputs": [
        {
          "output_type": "display_data",
          "data": {
            "image/png": "[encoded data removed]",
            "text/plain": [
              "<Figure size 1080x360 with 1 Axes>"
            ]
          },
          "metadata": {
            "tags": []
          }
        }
      ]
    },
    {
      "cell_type": "markdown",
      "metadata": {
        "id": "080Hx9-LL4C2"
      },
      "source": [
        "Sin escalado con PCA sin balanceo "
      ]
    },
    {
      "cell_type": "code",
      "metadata": {
        "id": "3kbl5q7Iib-k"
      },
      "source": [
        "X_train,X_test,y_train,y_test=train_test_split(generadorPCA(2,X),y)"
      ],
      "execution_count": 29,
      "outputs": []
    },
    {
      "cell_type": "code",
      "metadata": {
        "id": "hqNp1kXHiq8T"
      },
      "source": [
        "model_conPCA_sinBalanceo=model()"
      ],
      "execution_count": 30,
      "outputs": []
    },
    {
      "cell_type": "code",
      "metadata": {
        "colab": {
          "base_uri": "https://localhost:8080/"
        },
        "id": "D0UawirjjEtU",
        "outputId": "1e595f49-0639-44ef-fee0-3bdc1dc129dc"
      },
      "source": [
        "model_conPCA_sinBalanceo.fit(x=X_train,y=y_train,validation_data=(X_test,y_test),batch_size=250,epochs=30,verbose=1)"
      ],
      "execution_count": 31,
      "outputs": [
        {
          "output_type": "stream",
          "text": [
            "Epoch 1/30\n",
            "124/124 [==============================] - 1s 3ms/step - loss: 1.6927 - accuracy: 0.7734 - val_loss: 0.3277 - val_accuracy: 0.8749\n",
            "Epoch 2/30\n",
            "124/124 [==============================] - 0s 2ms/step - loss: 0.2781 - accuracy: 0.8805 - val_loss: 0.2653 - val_accuracy: 0.8827\n",
            "Epoch 3/30\n",
            "124/124 [==============================] - 0s 2ms/step - loss: 0.2545 - accuracy: 0.8844 - val_loss: 0.2560 - val_accuracy: 0.8843\n",
            "Epoch 4/30\n",
            "124/124 [==============================] - 0s 2ms/step - loss: 0.2476 - accuracy: 0.8853 - val_loss: 0.2499 - val_accuracy: 0.8855\n",
            "Epoch 5/30\n",
            "124/124 [==============================] - 0s 2ms/step - loss: 0.2427 - accuracy: 0.8883 - val_loss: 0.2442 - val_accuracy: 0.8896\n",
            "Epoch 6/30\n",
            "124/124 [==============================] - 0s 3ms/step - loss: 0.2395 - accuracy: 0.8884 - val_loss: 0.2440 - val_accuracy: 0.8874\n",
            "Epoch 7/30\n",
            "124/124 [==============================] - 0s 2ms/step - loss: 0.2357 - accuracy: 0.8924 - val_loss: 0.2405 - val_accuracy: 0.8906\n",
            "Epoch 8/30\n",
            "124/124 [==============================] - 0s 2ms/step - loss: 0.2354 - accuracy: 0.8919 - val_loss: 0.2408 - val_accuracy: 0.8882\n",
            "Epoch 9/30\n",
            "124/124 [==============================] - 0s 2ms/step - loss: 0.2338 - accuracy: 0.8924 - val_loss: 0.2462 - val_accuracy: 0.8874\n",
            "Epoch 10/30\n",
            "124/124 [==============================] - 0s 2ms/step - loss: 0.2334 - accuracy: 0.8920 - val_loss: 0.2395 - val_accuracy: 0.8890\n",
            "Epoch 11/30\n",
            "124/124 [==============================] - 0s 2ms/step - loss: 0.2311 - accuracy: 0.8918 - val_loss: 0.2360 - val_accuracy: 0.8922\n",
            "Epoch 12/30\n",
            "124/124 [==============================] - 0s 2ms/step - loss: 0.2305 - accuracy: 0.8924 - val_loss: 0.2383 - val_accuracy: 0.8906\n",
            "Epoch 13/30\n",
            "124/124 [==============================] - 0s 2ms/step - loss: 0.2293 - accuracy: 0.8927 - val_loss: 0.2371 - val_accuracy: 0.8929\n",
            "Epoch 14/30\n",
            "124/124 [==============================] - 0s 2ms/step - loss: 0.2274 - accuracy: 0.8935 - val_loss: 0.2446 - val_accuracy: 0.8872\n",
            "Epoch 15/30\n",
            "124/124 [==============================] - 0s 2ms/step - loss: 0.2302 - accuracy: 0.8928 - val_loss: 0.2366 - val_accuracy: 0.8872\n",
            "Epoch 16/30\n",
            "124/124 [==============================] - 0s 2ms/step - loss: 0.2287 - accuracy: 0.8939 - val_loss: 0.2359 - val_accuracy: 0.8875\n",
            "Epoch 17/30\n",
            "124/124 [==============================] - 0s 2ms/step - loss: 0.2262 - accuracy: 0.8952 - val_loss: 0.2339 - val_accuracy: 0.8943\n",
            "Epoch 18/30\n",
            "124/124 [==============================] - 0s 2ms/step - loss: 0.2284 - accuracy: 0.8941 - val_loss: 0.2334 - val_accuracy: 0.8935\n",
            "Epoch 19/30\n",
            "124/124 [==============================] - 0s 2ms/step - loss: 0.2255 - accuracy: 0.8950 - val_loss: 0.2300 - val_accuracy: 0.8931\n",
            "Epoch 20/30\n",
            "124/124 [==============================] - 0s 2ms/step - loss: 0.2264 - accuracy: 0.8966 - val_loss: 0.2302 - val_accuracy: 0.8933\n",
            "Epoch 21/30\n",
            "124/124 [==============================] - 0s 2ms/step - loss: 0.2242 - accuracy: 0.8949 - val_loss: 0.2300 - val_accuracy: 0.8935\n",
            "Epoch 22/30\n",
            "124/124 [==============================] - 0s 2ms/step - loss: 0.2247 - accuracy: 0.8951 - val_loss: 0.2309 - val_accuracy: 0.8953\n",
            "Epoch 23/30\n",
            "124/124 [==============================] - 0s 2ms/step - loss: 0.2228 - accuracy: 0.8963 - val_loss: 0.2451 - val_accuracy: 0.8874\n",
            "Epoch 24/30\n",
            "124/124 [==============================] - 0s 2ms/step - loss: 0.2223 - accuracy: 0.8977 - val_loss: 0.2267 - val_accuracy: 0.8955\n",
            "Epoch 25/30\n",
            "124/124 [==============================] - 0s 2ms/step - loss: 0.2224 - accuracy: 0.8990 - val_loss: 0.2281 - val_accuracy: 0.8937\n",
            "Epoch 26/30\n",
            "124/124 [==============================] - 0s 2ms/step - loss: 0.2195 - accuracy: 0.9007 - val_loss: 0.2266 - val_accuracy: 0.8968\n",
            "Epoch 27/30\n",
            "124/124 [==============================] - 0s 2ms/step - loss: 0.2180 - accuracy: 0.9000 - val_loss: 0.2236 - val_accuracy: 0.8965\n",
            "Epoch 28/30\n",
            "124/124 [==============================] - 0s 2ms/step - loss: 0.2198 - accuracy: 0.9003 - val_loss: 0.2267 - val_accuracy: 0.8973\n",
            "Epoch 29/30\n",
            "124/124 [==============================] - 0s 2ms/step - loss: 0.2189 - accuracy: 0.9001 - val_loss: 0.2274 - val_accuracy: 0.8906\n",
            "Epoch 30/30\n",
            "124/124 [==============================] - 0s 2ms/step - loss: 0.2213 - accuracy: 0.8986 - val_loss: 0.2235 - val_accuracy: 0.8973\n"
          ],
          "name": "stdout"
        },
        {
          "output_type": "execute_result",
          "data": {
            "text/plain": [
              "<tensorflow.python.keras.callbacks.History at 0x7fba69d8a090>"
            ]
          },
          "metadata": {
            "tags": []
          },
          "execution_count": 31
        }
      ]
    },
    {
      "cell_type": "code",
      "metadata": {
        "colab": {
          "base_uri": "https://localhost:8080/",
          "height": 322
        },
        "id": "ObwZyhzZjNVk",
        "outputId": "589b6601-b416-45e7-ad5d-a6e9c52c5231"
      },
      "source": [
        "loss = pd.DataFrame(model_conPCA_sinBalanceo.history.history)\n",
        "plt.figure(figsize=(15,5))\n",
        "sns.lineplot(data=loss,lw=3)\n",
        "sns.despine()"
      ],
      "execution_count": 32,
      "outputs": [
        {
          "output_type": "display_data",
          "data": {
            "image/png": "[encoded data removed]",
            "text/plain": [
              "<Figure size 1080x360 with 1 Axes>"
            ]
          },
          "metadata": {
            "tags": []
          }
        }
      ]
    },
    {
      "cell_type": "markdown",
      "metadata": {
        "id": "XLco5sAVL7Ig"
      },
      "source": [
        "Sin escalado sin PCA y con balanceo OVER"
      ]
    },
    {
      "cell_type": "code",
      "metadata": {
        "id": "z82YUduJkCvl"
      },
      "source": [
        "X_train,X_test,y_train,y_test=train_test_split(X_ros,y_ros)"
      ],
      "execution_count": 33,
      "outputs": []
    },
    {
      "cell_type": "code",
      "metadata": {
        "id": "Ok_yLsrikIv8"
      },
      "source": [
        "model_sinPCA_conOver = model()"
      ],
      "execution_count": 34,
      "outputs": []
    },
    {
      "cell_type": "code",
      "metadata": {
        "colab": {
          "base_uri": "https://localhost:8080/"
        },
        "id": "GQkprV99kRz8",
        "outputId": "b9459aeb-ee3a-4b9d-d7f4-fedb557c3c95"
      },
      "source": [
        "model_sinPCA_conOver.fit(x=X_train,y=y_train,validation_data=(X_test,y_test),batch_size=500,epochs=30,verbose=1)"
      ],
      "execution_count": 35,
      "outputs": [
        {
          "output_type": "stream",
          "text": [
            "Epoch 1/30\n",
            "110/110 [==============================] - 1s 4ms/step - loss: 5.1691 - accuracy: 0.6357 - val_loss: 0.8953 - val_accuracy: 0.6835\n",
            "Epoch 2/30\n",
            "110/110 [==============================] - 0s 3ms/step - loss: 0.6702 - accuracy: 0.7795 - val_loss: 0.6190 - val_accuracy: 0.7815\n",
            "Epoch 3/30\n",
            "110/110 [==============================] - 0s 3ms/step - loss: 0.5496 - accuracy: 0.8133 - val_loss: 0.4919 - val_accuracy: 0.8424\n",
            "Epoch 4/30\n",
            "110/110 [==============================] - 0s 3ms/step - loss: 0.4807 - accuracy: 0.8304 - val_loss: 0.4731 - val_accuracy: 0.8136\n",
            "Epoch 5/30\n",
            "110/110 [==============================] - 0s 3ms/step - loss: 0.4930 - accuracy: 0.8255 - val_loss: 0.6302 - val_accuracy: 0.8145\n",
            "Epoch 6/30\n",
            "110/110 [==============================] - 0s 3ms/step - loss: 0.4514 - accuracy: 0.8370 - val_loss: 0.4951 - val_accuracy: 0.7939\n",
            "Epoch 7/30\n",
            "110/110 [==============================] - 0s 3ms/step - loss: 0.4090 - accuracy: 0.8472 - val_loss: 0.3845 - val_accuracy: 0.8420\n",
            "Epoch 8/30\n",
            "110/110 [==============================] - 0s 3ms/step - loss: 0.4526 - accuracy: 0.8350 - val_loss: 0.3625 - val_accuracy: 0.8723\n",
            "Epoch 9/30\n",
            "110/110 [==============================] - 0s 3ms/step - loss: 0.3806 - accuracy: 0.8534 - val_loss: 0.3463 - val_accuracy: 0.8677\n",
            "Epoch 10/30\n",
            "110/110 [==============================] - 0s 2ms/step - loss: 0.4679 - accuracy: 0.8289 - val_loss: 0.3483 - val_accuracy: 0.8621\n",
            "Epoch 11/30\n",
            "110/110 [==============================] - 0s 3ms/step - loss: 0.3823 - accuracy: 0.8540 - val_loss: 0.3741 - val_accuracy: 0.8462\n",
            "Epoch 12/30\n",
            "110/110 [==============================] - 0s 3ms/step - loss: 0.4422 - accuracy: 0.8348 - val_loss: 0.7121 - val_accuracy: 0.7893\n",
            "Epoch 13/30\n",
            "110/110 [==============================] - 0s 3ms/step - loss: 0.4886 - accuracy: 0.8272 - val_loss: 0.4254 - val_accuracy: 0.8697\n",
            "Epoch 14/30\n",
            "110/110 [==============================] - 0s 3ms/step - loss: 0.4079 - accuracy: 0.8468 - val_loss: 0.4646 - val_accuracy: 0.7667\n",
            "Epoch 15/30\n",
            "110/110 [==============================] - 0s 2ms/step - loss: 0.4044 - accuracy: 0.8478 - val_loss: 0.3483 - val_accuracy: 0.8779\n",
            "Epoch 16/30\n",
            "110/110 [==============================] - 0s 2ms/step - loss: 0.4176 - accuracy: 0.8436 - val_loss: 0.3383 - val_accuracy: 0.8778\n",
            "Epoch 17/30\n",
            "110/110 [==============================] - 0s 2ms/step - loss: 0.3802 - accuracy: 0.8522 - val_loss: 0.4645 - val_accuracy: 0.8444\n",
            "Epoch 18/30\n",
            "110/110 [==============================] - 0s 3ms/step - loss: 0.4066 - accuracy: 0.8449 - val_loss: 0.3894 - val_accuracy: 0.8668\n",
            "Epoch 19/30\n",
            "110/110 [==============================] - 0s 3ms/step - loss: 0.3959 - accuracy: 0.8505 - val_loss: 0.5316 - val_accuracy: 0.8352\n",
            "Epoch 20/30\n",
            "110/110 [==============================] - 0s 3ms/step - loss: 0.4419 - accuracy: 0.8367 - val_loss: 0.3979 - val_accuracy: 0.8223\n",
            "Epoch 21/30\n",
            "110/110 [==============================] - 0s 3ms/step - loss: 0.3827 - accuracy: 0.8536 - val_loss: 0.3257 - val_accuracy: 0.8778\n",
            "Epoch 22/30\n",
            "110/110 [==============================] - 0s 3ms/step - loss: 0.4270 - accuracy: 0.8397 - val_loss: 0.3985 - val_accuracy: 0.8642\n",
            "Epoch 23/30\n",
            "110/110 [==============================] - 0s 3ms/step - loss: 0.3692 - accuracy: 0.8565 - val_loss: 0.3611 - val_accuracy: 0.8745\n",
            "Epoch 24/30\n",
            "110/110 [==============================] - 0s 3ms/step - loss: 0.4015 - accuracy: 0.8466 - val_loss: 0.3732 - val_accuracy: 0.8410\n",
            "Epoch 25/30\n",
            "110/110 [==============================] - 0s 3ms/step - loss: 0.4322 - accuracy: 0.8360 - val_loss: 0.3533 - val_accuracy: 0.8774\n",
            "Epoch 26/30\n",
            "110/110 [==============================] - 0s 3ms/step - loss: 0.4021 - accuracy: 0.8476 - val_loss: 0.3314 - val_accuracy: 0.8663\n",
            "Epoch 27/30\n",
            "110/110 [==============================] - 0s 3ms/step - loss: 0.4088 - accuracy: 0.8471 - val_loss: 0.3255 - val_accuracy: 0.8793\n",
            "Epoch 28/30\n",
            "110/110 [==============================] - 0s 3ms/step - loss: 0.3640 - accuracy: 0.8583 - val_loss: 0.4330 - val_accuracy: 0.8045\n",
            "Epoch 29/30\n",
            "110/110 [==============================] - 0s 3ms/step - loss: 0.3873 - accuracy: 0.8497 - val_loss: 0.3278 - val_accuracy: 0.8781\n",
            "Epoch 30/30\n",
            "110/110 [==============================] - 0s 3ms/step - loss: 0.3661 - accuracy: 0.8568 - val_loss: 0.3850 - val_accuracy: 0.8666\n"
          ],
          "name": "stdout"
        },
        {
          "output_type": "execute_result",
          "data": {
            "text/plain": [
              "<tensorflow.python.keras.callbacks.History at 0x7fba69335e50>"
            ]
          },
          "metadata": {
            "tags": []
          },
          "execution_count": 35
        }
      ]
    },
    {
      "cell_type": "code",
      "metadata": {
        "colab": {
          "base_uri": "https://localhost:8080/",
          "height": 322
        },
        "id": "o5JCCRLfkxWN",
        "outputId": "18d72b41-0d44-4dff-d92e-f82abb8c1ce2"
      },
      "source": [
        "loss = pd.DataFrame(model_sinPCA_conOver.history.history)\n",
        "plt.figure(figsize=(15,5))\n",
        "sns.lineplot(data=loss,lw=3)\n",
        "sns.despine()"
      ],
      "execution_count": 36,
      "outputs": [
        {
          "output_type": "display_data",
          "data": {
            "image/png": "[encoded data removed]",
            "text/plain": [
              "<Figure size 1080x360 with 1 Axes>"
            ]
          },
          "metadata": {
            "tags": []
          }
        }
      ]
    },
    {
      "cell_type": "markdown",
      "metadata": {
        "id": "CX-9Yj_EMCB2"
      },
      "source": [
        "Sin escalado sin PCA y con balanceo UNDER"
      ]
    },
    {
      "cell_type": "code",
      "metadata": {
        "id": "Z5lSG_Zkk3EU"
      },
      "source": [
        "X_train,X_test,y_train,y_test=train_test_split(X_rus,y_rus)"
      ],
      "execution_count": 37,
      "outputs": []
    },
    {
      "cell_type": "code",
      "metadata": {
        "id": "Dn_Iyimpk95E"
      },
      "source": [
        "model_sinPCA_conUnder = model()"
      ],
      "execution_count": 38,
      "outputs": []
    },
    {
      "cell_type": "code",
      "metadata": {
        "colab": {
          "base_uri": "https://localhost:8080/"
        },
        "id": "Dl85jwb4lBJM",
        "outputId": "53d013cb-d4cb-4bef-92d0-a9e62ed63903"
      },
      "source": [
        "model_sinPCA_conUnder.fit(x=X_train,y=y_train,validation_data=(X_test,y_test),batch_size=250,epochs=30,verbose=1)"
      ],
      "execution_count": 39,
      "outputs": [
        {
          "output_type": "stream",
          "text": [
            "Epoch 1/30\n",
            "28/28 [==============================] - 1s 9ms/step - loss: 20.1194 - accuracy: 0.5677 - val_loss: 2.1158 - val_accuracy: 0.6819\n",
            "Epoch 2/30\n",
            "28/28 [==============================] - 0s 3ms/step - loss: 1.3136 - accuracy: 0.7158 - val_loss: 0.9973 - val_accuracy: 0.7397\n",
            "Epoch 3/30\n",
            "28/28 [==============================] - 0s 3ms/step - loss: 1.0543 - accuracy: 0.7381 - val_loss: 0.9465 - val_accuracy: 0.7466\n",
            "Epoch 4/30\n",
            "28/28 [==============================] - 0s 3ms/step - loss: 0.9848 - accuracy: 0.7391 - val_loss: 0.9109 - val_accuracy: 0.7319\n",
            "Epoch 5/30\n",
            "28/28 [==============================] - 0s 4ms/step - loss: 0.9214 - accuracy: 0.7389 - val_loss: 0.8246 - val_accuracy: 0.7448\n",
            "Epoch 6/30\n",
            "28/28 [==============================] - 0s 3ms/step - loss: 0.8614 - accuracy: 0.7408 - val_loss: 0.7761 - val_accuracy: 0.7513\n",
            "Epoch 7/30\n",
            "28/28 [==============================] - 0s 3ms/step - loss: 0.7964 - accuracy: 0.7409 - val_loss: 0.7176 - val_accuracy: 0.7487\n",
            "Epoch 8/30\n",
            "28/28 [==============================] - 0s 3ms/step - loss: 0.7406 - accuracy: 0.7391 - val_loss: 0.6712 - val_accuracy: 0.7444\n",
            "Epoch 9/30\n",
            "28/28 [==============================] - 0s 3ms/step - loss: 0.6948 - accuracy: 0.7405 - val_loss: 0.6319 - val_accuracy: 0.7401\n",
            "Epoch 10/30\n",
            "28/28 [==============================] - 0s 3ms/step - loss: 0.6555 - accuracy: 0.7422 - val_loss: 0.5985 - val_accuracy: 0.7513\n",
            "Epoch 11/30\n",
            "28/28 [==============================] - 0s 4ms/step - loss: 0.6194 - accuracy: 0.7421 - val_loss: 0.5809 - val_accuracy: 0.7323\n",
            "Epoch 12/30\n",
            "28/28 [==============================] - 0s 3ms/step - loss: 0.5967 - accuracy: 0.7408 - val_loss: 0.5518 - val_accuracy: 0.7526\n",
            "Epoch 13/30\n",
            "28/28 [==============================] - 0s 3ms/step - loss: 0.5701 - accuracy: 0.7420 - val_loss: 0.5359 - val_accuracy: 0.7517\n",
            "Epoch 14/30\n",
            "28/28 [==============================] - 0s 3ms/step - loss: 0.5535 - accuracy: 0.7405 - val_loss: 0.5464 - val_accuracy: 0.7647\n",
            "Epoch 15/30\n",
            "28/28 [==============================] - 0s 4ms/step - loss: 0.5439 - accuracy: 0.7434 - val_loss: 0.5163 - val_accuracy: 0.7509\n",
            "Epoch 16/30\n",
            "28/28 [==============================] - 0s 3ms/step - loss: 0.5295 - accuracy: 0.7441 - val_loss: 0.5110 - val_accuracy: 0.7418\n",
            "Epoch 17/30\n",
            "28/28 [==============================] - 0s 3ms/step - loss: 0.5272 - accuracy: 0.7487 - val_loss: 0.5138 - val_accuracy: 0.7349\n",
            "Epoch 18/30\n",
            "28/28 [==============================] - 0s 3ms/step - loss: 0.5219 - accuracy: 0.7474 - val_loss: 0.5129 - val_accuracy: 0.7310\n",
            "Epoch 19/30\n",
            "28/28 [==============================] - 0s 4ms/step - loss: 0.5143 - accuracy: 0.7527 - val_loss: 0.5109 - val_accuracy: 0.7306\n",
            "Epoch 20/30\n",
            "28/28 [==============================] - 0s 4ms/step - loss: 0.5136 - accuracy: 0.7487 - val_loss: 0.5019 - val_accuracy: 0.7444\n",
            "Epoch 21/30\n",
            "28/28 [==============================] - 0s 4ms/step - loss: 0.5062 - accuracy: 0.7519 - val_loss: 0.4947 - val_accuracy: 0.7578\n",
            "Epoch 22/30\n",
            "28/28 [==============================] - 0s 4ms/step - loss: 0.5068 - accuracy: 0.7543 - val_loss: 0.4912 - val_accuracy: 0.7599\n",
            "Epoch 23/30\n",
            "28/28 [==============================] - 0s 3ms/step - loss: 0.4984 - accuracy: 0.7563 - val_loss: 0.4898 - val_accuracy: 0.7513\n",
            "Epoch 24/30\n",
            "28/28 [==============================] - 0s 4ms/step - loss: 0.5016 - accuracy: 0.7570 - val_loss: 0.4975 - val_accuracy: 0.7897\n",
            "Epoch 25/30\n",
            "28/28 [==============================] - 0s 4ms/step - loss: 0.4961 - accuracy: 0.7615 - val_loss: 0.4875 - val_accuracy: 0.7905\n",
            "Epoch 26/30\n",
            "28/28 [==============================] - 0s 3ms/step - loss: 0.5008 - accuracy: 0.7596 - val_loss: 0.4779 - val_accuracy: 0.7707\n",
            "Epoch 27/30\n",
            "28/28 [==============================] - 0s 4ms/step - loss: 0.4837 - accuracy: 0.7611 - val_loss: 0.4844 - val_accuracy: 0.7940\n",
            "Epoch 28/30\n",
            "28/28 [==============================] - 0s 4ms/step - loss: 0.4860 - accuracy: 0.7664 - val_loss: 0.5181 - val_accuracy: 0.7789\n",
            "Epoch 29/30\n",
            "28/28 [==============================] - 0s 4ms/step - loss: 0.4890 - accuracy: 0.7690 - val_loss: 0.4703 - val_accuracy: 0.7634\n",
            "Epoch 30/30\n",
            "28/28 [==============================] - 0s 3ms/step - loss: 0.4767 - accuracy: 0.7731 - val_loss: 0.4629 - val_accuracy: 0.7845\n"
          ],
          "name": "stdout"
        },
        {
          "output_type": "execute_result",
          "data": {
            "text/plain": [
              "<tensorflow.python.keras.callbacks.History at 0x7fba73290490>"
            ]
          },
          "metadata": {
            "tags": []
          },
          "execution_count": 39
        }
      ]
    },
    {
      "cell_type": "code",
      "metadata": {
        "colab": {
          "base_uri": "https://localhost:8080/",
          "height": 322
        },
        "id": "Uoh_ggAFlHkt",
        "outputId": "1768795f-a8c0-4096-84e4-3d7e8b72d88c"
      },
      "source": [
        "loss = pd.DataFrame(model_sinPCA_conUnder.history.history)\n",
        "plt.figure(figsize=(15,5))\n",
        "sns.lineplot(data=loss,lw=3)\n",
        "sns.despine()"
      ],
      "execution_count": 40,
      "outputs": [
        {
          "output_type": "display_data",
          "data": {
            "image/png": "[encoded data removed]",
            "text/plain": [
              "<Figure size 1080x360 with 1 Axes>"
            ]
          },
          "metadata": {
            "tags": []
          }
        }
      ]
    },
    {
      "cell_type": "markdown",
      "metadata": {
        "id": "pytDO4ZUMJpO"
      },
      "source": [
        "Sin escalado sin PCA y con balanceo SMOTE"
      ]
    },
    {
      "cell_type": "code",
      "metadata": {
        "id": "AhD4yexplGwc"
      },
      "source": [
        "X_train,X_test,y_train,y_test=train_test_split(X_sm,y_sm)"
      ],
      "execution_count": 41,
      "outputs": []
    },
    {
      "cell_type": "code",
      "metadata": {
        "id": "G9tqYkzmlQob"
      },
      "source": [
        "model_sinPCA_conSM = model()"
      ],
      "execution_count": 42,
      "outputs": []
    },
    {
      "cell_type": "code",
      "metadata": {
        "colab": {
          "base_uri": "https://localhost:8080/"
        },
        "id": "k_UJQ_00lTks",
        "outputId": "6dfc92fc-b5b3-4da8-cc0c-057dd8883d08"
      },
      "source": [
        "model_sinPCA_conSM.fit(x=X_train,y=y_train,validation_data=(X_test,y_test),batch_size=350,epochs=30,verbose=1)"
      ],
      "execution_count": 43,
      "outputs": [
        {
          "output_type": "stream",
          "text": [
            "Epoch 1/30\n",
            "157/157 [==============================] - 1s 3ms/step - loss: 72.3773 - accuracy: 0.5909 - val_loss: 0.9194 - val_accuracy: 0.8091\n",
            "Epoch 2/30\n",
            "157/157 [==============================] - 0s 3ms/step - loss: 0.6351 - accuracy: 0.8295 - val_loss: 0.4962 - val_accuracy: 0.8180\n",
            "Epoch 3/30\n",
            "157/157 [==============================] - 0s 3ms/step - loss: 0.4506 - accuracy: 0.8477 - val_loss: 0.4245 - val_accuracy: 0.8646\n",
            "Epoch 4/30\n",
            "157/157 [==============================] - 0s 2ms/step - loss: 0.3975 - accuracy: 0.8545 - val_loss: 0.4654 - val_accuracy: 0.7927\n",
            "Epoch 5/30\n",
            "157/157 [==============================] - 0s 3ms/step - loss: 0.3797 - accuracy: 0.8593 - val_loss: 0.3890 - val_accuracy: 0.8573\n",
            "Epoch 6/30\n",
            "157/157 [==============================] - 0s 3ms/step - loss: 0.3898 - accuracy: 0.8505 - val_loss: 0.4383 - val_accuracy: 0.8087\n",
            "Epoch 7/30\n",
            "157/157 [==============================] - 0s 3ms/step - loss: 0.3727 - accuracy: 0.8566 - val_loss: 0.3983 - val_accuracy: 0.8325\n",
            "Epoch 8/30\n",
            "157/157 [==============================] - 0s 2ms/step - loss: 0.3647 - accuracy: 0.8596 - val_loss: 0.3991 - val_accuracy: 0.8676\n",
            "Epoch 9/30\n",
            "157/157 [==============================] - 0s 2ms/step - loss: 0.3691 - accuracy: 0.8570 - val_loss: 0.3611 - val_accuracy: 0.8770\n",
            "Epoch 10/30\n",
            "157/157 [==============================] - 0s 2ms/step - loss: 0.3743 - accuracy: 0.8526 - val_loss: 0.3556 - val_accuracy: 0.8616\n",
            "Epoch 11/30\n",
            "157/157 [==============================] - 0s 2ms/step - loss: 0.3586 - accuracy: 0.8596 - val_loss: 0.3536 - val_accuracy: 0.8606\n",
            "Epoch 12/30\n",
            "157/157 [==============================] - 0s 3ms/step - loss: 0.3600 - accuracy: 0.8589 - val_loss: 0.4066 - val_accuracy: 0.8616\n",
            "Epoch 13/30\n",
            "157/157 [==============================] - 0s 2ms/step - loss: 0.3575 - accuracy: 0.8601 - val_loss: 0.5641 - val_accuracy: 0.8062\n",
            "Epoch 14/30\n",
            "157/157 [==============================] - 0s 2ms/step - loss: 0.3645 - accuracy: 0.8570 - val_loss: 0.3529 - val_accuracy: 0.8602\n",
            "Epoch 15/30\n",
            "157/157 [==============================] - 0s 2ms/step - loss: 0.3961 - accuracy: 0.8446 - val_loss: 0.4300 - val_accuracy: 0.8661\n",
            "Epoch 16/30\n",
            "157/157 [==============================] - 0s 2ms/step - loss: 0.3505 - accuracy: 0.8621 - val_loss: 0.3870 - val_accuracy: 0.8719\n",
            "Epoch 17/30\n",
            "157/157 [==============================] - 0s 2ms/step - loss: 0.3708 - accuracy: 0.8530 - val_loss: 0.3433 - val_accuracy: 0.8616\n",
            "Epoch 18/30\n",
            "157/157 [==============================] - 0s 2ms/step - loss: 0.3520 - accuracy: 0.8593 - val_loss: 0.3524 - val_accuracy: 0.8773\n",
            "Epoch 19/30\n",
            "157/157 [==============================] - 0s 2ms/step - loss: 0.3534 - accuracy: 0.8606 - val_loss: 0.4281 - val_accuracy: 0.8555\n",
            "Epoch 20/30\n",
            "157/157 [==============================] - 0s 2ms/step - loss: 0.3535 - accuracy: 0.8595 - val_loss: 0.3314 - val_accuracy: 0.8784\n",
            "Epoch 21/30\n",
            "157/157 [==============================] - 0s 3ms/step - loss: 0.3587 - accuracy: 0.8584 - val_loss: 0.3314 - val_accuracy: 0.8690\n",
            "Epoch 22/30\n",
            "157/157 [==============================] - 0s 2ms/step - loss: 0.3460 - accuracy: 0.8636 - val_loss: 0.3287 - val_accuracy: 0.8751\n",
            "Epoch 23/30\n",
            "157/157 [==============================] - 0s 2ms/step - loss: 0.3628 - accuracy: 0.8557 - val_loss: 0.4669 - val_accuracy: 0.7798\n",
            "Epoch 24/30\n",
            "157/157 [==============================] - 0s 2ms/step - loss: 0.3389 - accuracy: 0.8645 - val_loss: 0.3330 - val_accuracy: 0.8647\n",
            "Epoch 25/30\n",
            "157/157 [==============================] - 0s 2ms/step - loss: 0.3458 - accuracy: 0.8634 - val_loss: 0.3306 - val_accuracy: 0.8787\n",
            "Epoch 26/30\n",
            "157/157 [==============================] - 0s 3ms/step - loss: 0.3575 - accuracy: 0.8582 - val_loss: 0.3402 - val_accuracy: 0.8597\n",
            "Epoch 27/30\n",
            "157/157 [==============================] - 0s 2ms/step - loss: 0.3458 - accuracy: 0.8626 - val_loss: 0.3617 - val_accuracy: 0.8455\n",
            "Epoch 28/30\n",
            "157/157 [==============================] - 0s 2ms/step - loss: 0.3658 - accuracy: 0.8557 - val_loss: 0.3973 - val_accuracy: 0.8252\n",
            "Epoch 29/30\n",
            "157/157 [==============================] - 0s 2ms/step - loss: 0.3677 - accuracy: 0.8555 - val_loss: 0.3388 - val_accuracy: 0.8572\n",
            "Epoch 30/30\n",
            "157/157 [==============================] - 0s 2ms/step - loss: 0.3817 - accuracy: 0.8500 - val_loss: 0.8840 - val_accuracy: 0.6397\n"
          ],
          "name": "stdout"
        },
        {
          "output_type": "execute_result",
          "data": {
            "text/plain": [
              "<tensorflow.python.keras.callbacks.History at 0x7fba69104dd0>"
            ]
          },
          "metadata": {
            "tags": []
          },
          "execution_count": 43
        }
      ]
    },
    {
      "cell_type": "code",
      "metadata": {
        "colab": {
          "base_uri": "https://localhost:8080/",
          "height": 322
        },
        "id": "4F0qEz_KlePU",
        "outputId": "9eb961e5-6873-4314-cd95-3fa570931f54"
      },
      "source": [
        "loss = pd.DataFrame(model_sinPCA_conSM.history.history)\n",
        "plt.figure(figsize=(15,5))\n",
        "sns.lineplot(data=loss,lw=3)\n",
        "sns.despine()"
      ],
      "execution_count": 44,
      "outputs": [
        {
          "output_type": "display_data",
          "data": {
            "image/png": "[encoded data removed]",
            "text/plain": [
              "<Figure size 1080x360 with 1 Axes>"
            ]
          },
          "metadata": {
            "tags": []
          }
        }
      ]
    },
    {
      "cell_type": "markdown",
      "metadata": {
        "id": "A-qb2FwFMaX_"
      },
      "source": [
        "Sin escalado con PCA y con balanceo OVER"
      ]
    },
    {
      "cell_type": "code",
      "metadata": {
        "id": "TnGpQaaJljTU"
      },
      "source": [
        "X_train,X_test,y_train,y_test=train_test_split(generadorPCA(2,X_ros),y_ros)"
      ],
      "execution_count": 45,
      "outputs": []
    },
    {
      "cell_type": "code",
      "metadata": {
        "id": "76HOIF2YlsCM"
      },
      "source": [
        "model_conPCA_conOver = model()"
      ],
      "execution_count": 46,
      "outputs": []
    },
    {
      "cell_type": "code",
      "metadata": {
        "colab": {
          "base_uri": "https://localhost:8080/"
        },
        "id": "H5JZP787lyrU",
        "outputId": "1d005449-0172-4ed9-b82a-44c5be83c588"
      },
      "source": [
        "model_conPCA_conOver.fit(x=X_train,y=y_train,validation_data=(X_test,y_test),batch_size=500,epochs=30,verbose=1)"
      ],
      "execution_count": 47,
      "outputs": [
        {
          "output_type": "stream",
          "text": [
            "Epoch 1/30\n",
            "110/110 [==============================] - 1s 3ms/step - loss: 2.0655 - accuracy: 0.7624 - val_loss: 0.4584 - val_accuracy: 0.8480\n",
            "Epoch 2/30\n",
            "110/110 [==============================] - 0s 2ms/step - loss: 0.4029 - accuracy: 0.8482 - val_loss: 0.3773 - val_accuracy: 0.8502\n",
            "Epoch 3/30\n",
            "110/110 [==============================] - 0s 2ms/step - loss: 0.3711 - accuracy: 0.8498 - val_loss: 0.3634 - val_accuracy: 0.8485\n",
            "Epoch 4/30\n",
            "110/110 [==============================] - 0s 3ms/step - loss: 0.3630 - accuracy: 0.8512 - val_loss: 0.3688 - val_accuracy: 0.8474\n",
            "Epoch 5/30\n",
            "110/110 [==============================] - 0s 2ms/step - loss: 0.3624 - accuracy: 0.8501 - val_loss: 0.3624 - val_accuracy: 0.8453\n",
            "Epoch 6/30\n",
            "110/110 [==============================] - 0s 2ms/step - loss: 0.3603 - accuracy: 0.8509 - val_loss: 0.3776 - val_accuracy: 0.8461\n",
            "Epoch 7/30\n",
            "110/110 [==============================] - 0s 2ms/step - loss: 0.3596 - accuracy: 0.8503 - val_loss: 0.3562 - val_accuracy: 0.8522\n",
            "Epoch 8/30\n",
            "110/110 [==============================] - 0s 2ms/step - loss: 0.3577 - accuracy: 0.8506 - val_loss: 0.3561 - val_accuracy: 0.8545\n",
            "Epoch 9/30\n",
            "110/110 [==============================] - 0s 2ms/step - loss: 0.3605 - accuracy: 0.8508 - val_loss: 0.3575 - val_accuracy: 0.8537\n",
            "Epoch 10/30\n",
            "110/110 [==============================] - 0s 2ms/step - loss: 0.3568 - accuracy: 0.8508 - val_loss: 0.3610 - val_accuracy: 0.8536\n",
            "Epoch 11/30\n",
            "110/110 [==============================] - 0s 2ms/step - loss: 0.3546 - accuracy: 0.8518 - val_loss: 0.3526 - val_accuracy: 0.8520\n",
            "Epoch 12/30\n",
            "110/110 [==============================] - 0s 2ms/step - loss: 0.3540 - accuracy: 0.8525 - val_loss: 0.3586 - val_accuracy: 0.8548\n",
            "Epoch 13/30\n",
            "110/110 [==============================] - 0s 2ms/step - loss: 0.3516 - accuracy: 0.8523 - val_loss: 0.3500 - val_accuracy: 0.8524\n",
            "Epoch 14/30\n",
            "110/110 [==============================] - 0s 2ms/step - loss: 0.3514 - accuracy: 0.8520 - val_loss: 0.3539 - val_accuracy: 0.8525\n",
            "Epoch 15/30\n",
            "110/110 [==============================] - 0s 2ms/step - loss: 0.3546 - accuracy: 0.8520 - val_loss: 0.3551 - val_accuracy: 0.8529\n",
            "Epoch 16/30\n",
            "110/110 [==============================] - 0s 2ms/step - loss: 0.3537 - accuracy: 0.8520 - val_loss: 0.3541 - val_accuracy: 0.8541\n",
            "Epoch 17/30\n",
            "110/110 [==============================] - 0s 2ms/step - loss: 0.3514 - accuracy: 0.8528 - val_loss: 0.3537 - val_accuracy: 0.8534\n",
            "Epoch 18/30\n",
            "110/110 [==============================] - 0s 2ms/step - loss: 0.3547 - accuracy: 0.8513 - val_loss: 0.3511 - val_accuracy: 0.8544\n",
            "Epoch 19/30\n",
            "110/110 [==============================] - 0s 2ms/step - loss: 0.3513 - accuracy: 0.8523 - val_loss: 0.3523 - val_accuracy: 0.8538\n",
            "Epoch 20/30\n",
            "110/110 [==============================] - 0s 2ms/step - loss: 0.3549 - accuracy: 0.8515 - val_loss: 0.3490 - val_accuracy: 0.8532\n",
            "Epoch 21/30\n",
            "110/110 [==============================] - 0s 3ms/step - loss: 0.3513 - accuracy: 0.8516 - val_loss: 0.3566 - val_accuracy: 0.8539\n",
            "Epoch 22/30\n",
            "110/110 [==============================] - 0s 2ms/step - loss: 0.3500 - accuracy: 0.8520 - val_loss: 0.3504 - val_accuracy: 0.8545\n",
            "Epoch 23/30\n",
            "110/110 [==============================] - 0s 3ms/step - loss: 0.3522 - accuracy: 0.8519 - val_loss: 0.3471 - val_accuracy: 0.8534\n",
            "Epoch 24/30\n",
            "110/110 [==============================] - 0s 2ms/step - loss: 0.3515 - accuracy: 0.8523 - val_loss: 0.3492 - val_accuracy: 0.8545\n",
            "Epoch 25/30\n",
            "110/110 [==============================] - 0s 2ms/step - loss: 0.3540 - accuracy: 0.8519 - val_loss: 0.3549 - val_accuracy: 0.8554\n",
            "Epoch 26/30\n",
            "110/110 [==============================] - 0s 2ms/step - loss: 0.3501 - accuracy: 0.8525 - val_loss: 0.3596 - val_accuracy: 0.8518\n",
            "Epoch 27/30\n",
            "110/110 [==============================] - 0s 2ms/step - loss: 0.3493 - accuracy: 0.8526 - val_loss: 0.3545 - val_accuracy: 0.8528\n",
            "Epoch 28/30\n",
            "110/110 [==============================] - 0s 2ms/step - loss: 0.3509 - accuracy: 0.8519 - val_loss: 0.3466 - val_accuracy: 0.8537\n",
            "Epoch 29/30\n",
            "110/110 [==============================] - 0s 2ms/step - loss: 0.3526 - accuracy: 0.8523 - val_loss: 0.3507 - val_accuracy: 0.8527\n",
            "Epoch 30/30\n",
            "110/110 [==============================] - 0s 3ms/step - loss: 0.3516 - accuracy: 0.8517 - val_loss: 0.3562 - val_accuracy: 0.8516\n"
          ],
          "name": "stdout"
        },
        {
          "output_type": "execute_result",
          "data": {
            "text/plain": [
              "<tensorflow.python.keras.callbacks.History at 0x7fba6263e510>"
            ]
          },
          "metadata": {
            "tags": []
          },
          "execution_count": 47
        }
      ]
    },
    {
      "cell_type": "code",
      "metadata": {
        "colab": {
          "base_uri": "https://localhost:8080/",
          "height": 322
        },
        "id": "7iCUkUGjl7iP",
        "outputId": "f0deaac6-b3a6-4841-a715-225f647bbe20"
      },
      "source": [
        "loss = pd.DataFrame(model_sinPCA_conSM.history.history)\n",
        "plt.figure(figsize=(15,5))\n",
        "sns.lineplot(data=loss,lw=3)\n",
        "sns.despine()"
      ],
      "execution_count": 48,
      "outputs": [
        {
          "output_type": "display_data",
          "data": {
            "image/png": "[encoded data removed]",
            "text/plain": [
              "<Figure size 1080x360 with 1 Axes>"
            ]
          },
          "metadata": {
            "tags": []
          }
        }
      ]
    },
    {
      "cell_type": "markdown",
      "metadata": {
        "id": "FIXXjEr-McKu"
      },
      "source": [
        "Sin escalado con PCA y con balanceo UNDER"
      ]
    },
    {
      "cell_type": "code",
      "metadata": {
        "id": "oZCqLtZVLpgZ"
      },
      "source": [
        "X_train,X_test,y_train,y_test=train_test_split(generadorPCA(2,X_rus),y_rus)"
      ],
      "execution_count": 49,
      "outputs": []
    },
    {
      "cell_type": "code",
      "metadata": {
        "id": "Mi9FEDn_ND8-"
      },
      "source": [
        "model_conPCA_conUnder = model()"
      ],
      "execution_count": 50,
      "outputs": []
    },
    {
      "cell_type": "code",
      "metadata": {
        "colab": {
          "base_uri": "https://localhost:8080/"
        },
        "id": "qqMnelrUOrJH",
        "outputId": "15b2f1ed-274f-4ba7-ccc5-22f438e498e7"
      },
      "source": [
        "model_conPCA_conUnder.fit(x=X_train,y=y_train,validation_data=(X_test,y_test),batch_size=250,epochs=30,verbose=1)"
      ],
      "execution_count": 51,
      "outputs": [
        {
          "output_type": "stream",
          "text": [
            "Epoch 1/30\n",
            "28/28 [==============================] - 1s 8ms/step - loss: 18.3949 - accuracy: 0.6342 - val_loss: 12.5439 - val_accuracy: 0.6698\n",
            "Epoch 2/30\n",
            "28/28 [==============================] - 0s 3ms/step - loss: 7.7761 - accuracy: 0.6865 - val_loss: 3.9893 - val_accuracy: 0.7000\n",
            "Epoch 3/30\n",
            "28/28 [==============================] - 0s 3ms/step - loss: 1.7557 - accuracy: 0.7947 - val_loss: 1.0816 - val_accuracy: 0.8435\n",
            "Epoch 4/30\n",
            "28/28 [==============================] - 0s 3ms/step - loss: 1.0021 - accuracy: 0.8369 - val_loss: 0.8471 - val_accuracy: 0.8384\n",
            "Epoch 5/30\n",
            "28/28 [==============================] - 0s 3ms/step - loss: 0.7771 - accuracy: 0.8318 - val_loss: 0.6590 - val_accuracy: 0.8332\n",
            "Epoch 6/30\n",
            "28/28 [==============================] - 0s 3ms/step - loss: 0.6164 - accuracy: 0.8287 - val_loss: 0.5260 - val_accuracy: 0.8306\n",
            "Epoch 7/30\n",
            "28/28 [==============================] - 0s 3ms/step - loss: 0.4964 - accuracy: 0.8335 - val_loss: 0.4497 - val_accuracy: 0.8384\n",
            "Epoch 8/30\n",
            "28/28 [==============================] - 0s 3ms/step - loss: 0.4348 - accuracy: 0.8375 - val_loss: 0.4192 - val_accuracy: 0.8500\n",
            "Epoch 9/30\n",
            "28/28 [==============================] - 0s 3ms/step - loss: 0.4061 - accuracy: 0.8457 - val_loss: 0.4014 - val_accuracy: 0.8388\n",
            "Epoch 10/30\n",
            "28/28 [==============================] - 0s 2ms/step - loss: 0.3947 - accuracy: 0.8399 - val_loss: 0.4002 - val_accuracy: 0.8384\n",
            "Epoch 11/30\n",
            "28/28 [==============================] - 0s 3ms/step - loss: 0.3827 - accuracy: 0.8438 - val_loss: 0.3803 - val_accuracy: 0.8414\n",
            "Epoch 12/30\n",
            "28/28 [==============================] - 0s 2ms/step - loss: 0.3723 - accuracy: 0.8494 - val_loss: 0.3777 - val_accuracy: 0.8388\n",
            "Epoch 13/30\n",
            "28/28 [==============================] - 0s 2ms/step - loss: 0.3654 - accuracy: 0.8470 - val_loss: 0.3715 - val_accuracy: 0.8388\n",
            "Epoch 14/30\n",
            "28/28 [==============================] - 0s 3ms/step - loss: 0.3637 - accuracy: 0.8454 - val_loss: 0.3716 - val_accuracy: 0.8384\n",
            "Epoch 15/30\n",
            "28/28 [==============================] - 0s 3ms/step - loss: 0.3640 - accuracy: 0.8470 - val_loss: 0.3740 - val_accuracy: 0.8517\n",
            "Epoch 16/30\n",
            "28/28 [==============================] - 0s 2ms/step - loss: 0.3641 - accuracy: 0.8471 - val_loss: 0.3700 - val_accuracy: 0.8474\n",
            "Epoch 17/30\n",
            "28/28 [==============================] - 0s 3ms/step - loss: 0.3623 - accuracy: 0.8470 - val_loss: 0.3714 - val_accuracy: 0.8534\n",
            "Epoch 18/30\n",
            "28/28 [==============================] - 0s 3ms/step - loss: 0.3607 - accuracy: 0.8494 - val_loss: 0.3691 - val_accuracy: 0.8388\n",
            "Epoch 19/30\n",
            "28/28 [==============================] - 0s 3ms/step - loss: 0.3613 - accuracy: 0.8460 - val_loss: 0.3685 - val_accuracy: 0.8435\n",
            "Epoch 20/30\n",
            "28/28 [==============================] - 0s 2ms/step - loss: 0.3623 - accuracy: 0.8476 - val_loss: 0.3680 - val_accuracy: 0.8474\n",
            "Epoch 21/30\n",
            "28/28 [==============================] - 0s 2ms/step - loss: 0.3642 - accuracy: 0.8484 - val_loss: 0.3804 - val_accuracy: 0.8444\n",
            "Epoch 22/30\n",
            "28/28 [==============================] - 0s 3ms/step - loss: 0.3605 - accuracy: 0.8473 - val_loss: 0.3664 - val_accuracy: 0.8478\n",
            "Epoch 23/30\n",
            "28/28 [==============================] - 0s 2ms/step - loss: 0.3592 - accuracy: 0.8468 - val_loss: 0.3665 - val_accuracy: 0.8478\n",
            "Epoch 24/30\n",
            "28/28 [==============================] - 0s 2ms/step - loss: 0.3603 - accuracy: 0.8457 - val_loss: 0.3733 - val_accuracy: 0.8496\n",
            "Epoch 25/30\n",
            "28/28 [==============================] - 0s 2ms/step - loss: 0.3566 - accuracy: 0.8497 - val_loss: 0.3663 - val_accuracy: 0.8401\n",
            "Epoch 26/30\n",
            "28/28 [==============================] - 0s 3ms/step - loss: 0.3580 - accuracy: 0.8474 - val_loss: 0.3648 - val_accuracy: 0.8401\n",
            "Epoch 27/30\n",
            "28/28 [==============================] - 0s 2ms/step - loss: 0.3589 - accuracy: 0.8477 - val_loss: 0.3643 - val_accuracy: 0.8440\n",
            "Epoch 28/30\n",
            "28/28 [==============================] - 0s 2ms/step - loss: 0.3568 - accuracy: 0.8493 - val_loss: 0.3652 - val_accuracy: 0.8422\n",
            "Epoch 29/30\n",
            "28/28 [==============================] - 0s 3ms/step - loss: 0.3564 - accuracy: 0.8471 - val_loss: 0.3634 - val_accuracy: 0.8431\n",
            "Epoch 30/30\n",
            "28/28 [==============================] - 0s 3ms/step - loss: 0.3587 - accuracy: 0.8480 - val_loss: 0.3634 - val_accuracy: 0.8427\n"
          ],
          "name": "stdout"
        },
        {
          "output_type": "execute_result",
          "data": {
            "text/plain": [
              "<tensorflow.python.keras.callbacks.History at 0x7fba6142b910>"
            ]
          },
          "metadata": {
            "tags": []
          },
          "execution_count": 51
        }
      ]
    },
    {
      "cell_type": "code",
      "metadata": {
        "colab": {
          "base_uri": "https://localhost:8080/",
          "height": 322
        },
        "id": "F-SGOkKsPu5X",
        "outputId": "8a51c42e-f843-4b00-989f-361a832d9bf8"
      },
      "source": [
        "loss = pd.DataFrame(model_conPCA_conUnder.history.history)\n",
        "plt.figure(figsize=(15,5))\n",
        "sns.lineplot(data=loss,lw=3)\n",
        "sns.despine()"
      ],
      "execution_count": 52,
      "outputs": [
        {
          "output_type": "display_data",
          "data": {
            "image/png": "[encoded data removed]",
            "text/plain": [
              "<Figure size 1080x360 with 1 Axes>"
            ]
          },
          "metadata": {
            "tags": []
          }
        }
      ]
    },
    {
      "cell_type": "markdown",
      "metadata": {
        "id": "fn7tED71QImo"
      },
      "source": [
        "Modelo muy robusto para el problema \n",
        "\n",
        "Sin embargo el modelo se comporta bien debido al PCA\n",
        "\n",
        "acurracy = 0.8414 -> val_accuracy = 0.8467"
      ]
    },
    {
      "cell_type": "markdown",
      "metadata": {
        "id": "18vMvdU_MeJV"
      },
      "source": [
        "Sin escalado con PCA y con balanceo SMOTE"
      ]
    },
    {
      "cell_type": "code",
      "metadata": {
        "id": "be0Y6D7amASE"
      },
      "source": [
        "X_train,X_test,y_train,y_test=train_test_split(generadorPCA(2,X_sm),y_sm)"
      ],
      "execution_count": 53,
      "outputs": []
    },
    {
      "cell_type": "code",
      "metadata": {
        "id": "pnZVyHjOmG-0"
      },
      "source": [
        "model_conPCA_conSM = model()"
      ],
      "execution_count": 54,
      "outputs": []
    },
    {
      "cell_type": "code",
      "metadata": {
        "colab": {
          "base_uri": "https://localhost:8080/"
        },
        "id": "kz5VmLNnmKZ8",
        "outputId": "0fa70f00-d904-45a1-eb90-5d0e539267de"
      },
      "source": [
        "model_conPCA_conSM.fit(x=X_train,y=y_train,validation_data=(X_test,y_test),batch_size=350,epochs=30,verbose=1)"
      ],
      "execution_count": 55,
      "outputs": [
        {
          "output_type": "stream",
          "text": [
            "Epoch 1/30\n",
            "157/157 [==============================] - 1s 3ms/step - loss: 4.5082 - accuracy: 0.7903 - val_loss: 0.7030 - val_accuracy: 0.8183\n",
            "Epoch 2/30\n",
            "157/157 [==============================] - 0s 2ms/step - loss: 0.4552 - accuracy: 0.8371 - val_loss: 0.3814 - val_accuracy: 0.8405\n",
            "Epoch 3/30\n",
            "157/157 [==============================] - 0s 2ms/step - loss: 0.3822 - accuracy: 0.8471 - val_loss: 0.3749 - val_accuracy: 0.8477\n",
            "Epoch 4/30\n",
            "157/157 [==============================] - 0s 2ms/step - loss: 0.3751 - accuracy: 0.8490 - val_loss: 0.3713 - val_accuracy: 0.8495\n",
            "Epoch 5/30\n",
            "157/157 [==============================] - 0s 2ms/step - loss: 0.3722 - accuracy: 0.8491 - val_loss: 0.3591 - val_accuracy: 0.8460\n",
            "Epoch 6/30\n",
            "157/157 [==============================] - 0s 2ms/step - loss: 0.3695 - accuracy: 0.8499 - val_loss: 0.3572 - val_accuracy: 0.8492\n",
            "Epoch 7/30\n",
            "157/157 [==============================] - 0s 2ms/step - loss: 0.3674 - accuracy: 0.8503 - val_loss: 0.3618 - val_accuracy: 0.8513\n",
            "Epoch 8/30\n",
            "157/157 [==============================] - 0s 2ms/step - loss: 0.3609 - accuracy: 0.8514 - val_loss: 0.3554 - val_accuracy: 0.8501\n",
            "Epoch 9/30\n",
            "157/157 [==============================] - 0s 2ms/step - loss: 0.3610 - accuracy: 0.8504 - val_loss: 0.3784 - val_accuracy: 0.8458\n",
            "Epoch 10/30\n",
            "157/157 [==============================] - 0s 2ms/step - loss: 0.3585 - accuracy: 0.8518 - val_loss: 0.3598 - val_accuracy: 0.8491\n",
            "Epoch 11/30\n",
            "157/157 [==============================] - 0s 2ms/step - loss: 0.3594 - accuracy: 0.8493 - val_loss: 0.3628 - val_accuracy: 0.8426\n",
            "Epoch 12/30\n",
            "157/157 [==============================] - 0s 2ms/step - loss: 0.3585 - accuracy: 0.8509 - val_loss: 0.3601 - val_accuracy: 0.8491\n",
            "Epoch 13/30\n",
            "157/157 [==============================] - 0s 2ms/step - loss: 0.3585 - accuracy: 0.8516 - val_loss: 0.3526 - val_accuracy: 0.8512\n",
            "Epoch 14/30\n",
            "157/157 [==============================] - 0s 2ms/step - loss: 0.3580 - accuracy: 0.8511 - val_loss: 0.3511 - val_accuracy: 0.8507\n",
            "Epoch 15/30\n",
            "157/157 [==============================] - 0s 2ms/step - loss: 0.3643 - accuracy: 0.8476 - val_loss: 0.3582 - val_accuracy: 0.8504\n",
            "Epoch 16/30\n",
            "157/157 [==============================] - 0s 2ms/step - loss: 0.3585 - accuracy: 0.8511 - val_loss: 0.3559 - val_accuracy: 0.8502\n",
            "Epoch 17/30\n",
            "157/157 [==============================] - 0s 2ms/step - loss: 0.3591 - accuracy: 0.8504 - val_loss: 0.3533 - val_accuracy: 0.8491\n",
            "Epoch 18/30\n",
            "157/157 [==============================] - 0s 2ms/step - loss: 0.3599 - accuracy: 0.8505 - val_loss: 0.3571 - val_accuracy: 0.8487\n",
            "Epoch 19/30\n",
            "157/157 [==============================] - 0s 2ms/step - loss: 0.3592 - accuracy: 0.8508 - val_loss: 0.3560 - val_accuracy: 0.8491\n",
            "Epoch 20/30\n",
            "157/157 [==============================] - 0s 2ms/step - loss: 0.3589 - accuracy: 0.8500 - val_loss: 0.3728 - val_accuracy: 0.8309\n",
            "Epoch 21/30\n",
            "157/157 [==============================] - 0s 2ms/step - loss: 0.3560 - accuracy: 0.8506 - val_loss: 0.3511 - val_accuracy: 0.8466\n",
            "Epoch 22/30\n",
            "157/157 [==============================] - 0s 2ms/step - loss: 0.3570 - accuracy: 0.8506 - val_loss: 0.3728 - val_accuracy: 0.8394\n",
            "Epoch 23/30\n",
            "157/157 [==============================] - 0s 2ms/step - loss: 0.3596 - accuracy: 0.8517 - val_loss: 0.3533 - val_accuracy: 0.8498\n",
            "Epoch 24/30\n",
            "157/157 [==============================] - 0s 2ms/step - loss: 0.3607 - accuracy: 0.8506 - val_loss: 0.3568 - val_accuracy: 0.8429\n",
            "Epoch 25/30\n",
            "157/157 [==============================] - 0s 2ms/step - loss: 0.3612 - accuracy: 0.8488 - val_loss: 0.3606 - val_accuracy: 0.8463\n",
            "Epoch 26/30\n",
            "157/157 [==============================] - 0s 2ms/step - loss: 0.3592 - accuracy: 0.8493 - val_loss: 0.3530 - val_accuracy: 0.8499\n",
            "Epoch 27/30\n",
            "157/157 [==============================] - 0s 2ms/step - loss: 0.3590 - accuracy: 0.8494 - val_loss: 0.3686 - val_accuracy: 0.8506\n",
            "Epoch 28/30\n",
            "157/157 [==============================] - 0s 2ms/step - loss: 0.3548 - accuracy: 0.8514 - val_loss: 0.3516 - val_accuracy: 0.8495\n",
            "Epoch 29/30\n",
            "157/157 [==============================] - 0s 2ms/step - loss: 0.3593 - accuracy: 0.8486 - val_loss: 0.3592 - val_accuracy: 0.8443\n",
            "Epoch 30/30\n",
            "157/157 [==============================] - 0s 2ms/step - loss: 0.3601 - accuracy: 0.8499 - val_loss: 0.3513 - val_accuracy: 0.8505\n"
          ],
          "name": "stdout"
        },
        {
          "output_type": "execute_result",
          "data": {
            "text/plain": [
              "<tensorflow.python.keras.callbacks.History at 0x7fba609dbf90>"
            ]
          },
          "metadata": {
            "tags": []
          },
          "execution_count": 55
        }
      ]
    },
    {
      "cell_type": "code",
      "metadata": {
        "colab": {
          "base_uri": "https://localhost:8080/",
          "height": 322
        },
        "id": "0UUbL1KdmSkD",
        "outputId": "94209bd2-c61c-4fbd-e3dd-8af8070f1512"
      },
      "source": [
        "loss = pd.DataFrame(model_conPCA_conSM.history.history)\n",
        "plt.figure(figsize=(15,5))\n",
        "sns.lineplot(data=loss,lw=3)\n",
        "sns.despine()"
      ],
      "execution_count": 56,
      "outputs": [
        {
          "output_type": "display_data",
          "data": {
            "image/png": "[encoded data removed]",
            "text/plain": [
              "<Figure size 1080x360 with 1 Axes>"
            ]
          },
          "metadata": {
            "tags": []
          }
        }
      ]
    }
  ]
}